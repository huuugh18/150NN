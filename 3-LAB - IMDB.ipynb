{
 "cells": [
  {
   "cell_type": "markdown",
   "metadata": {},
   "source": [
    "1. Run IMDB\n",
    "- Experiment with one and three hidden layers\n",
    "- Experiment with more or fewer hidden units - 32 units, 64 units etc.\n",
    "- Investigate replacing the `binary_crossentropy` loss function with `mse`\n",
    "- Experiment with replacing `relu` with `tanh` activations\n",
    "- Investigate the effect of different learning rates\n",
    "- Take your best network and train on all the training data for the optimal epochs. Evaluate on the test set"
   ]
  },
  {
   "cell_type": "code",
   "execution_count": 8,
   "metadata": {},
   "outputs": [],
   "source": [
    "# IMDB\n",
    "\n",
    "from tensorflow.keras.datasets import imdb\n",
    "import numpy as np\n",
    "from tensorflow.keras import models\n",
    "from tensorflow.keras import layers"
   ]
  },
  {
   "cell_type": "markdown",
   "metadata": {},
   "source": [
    "### One-hot encode samples \n",
    "### Convert the layers to floating point value tenses  "
   ]
  },
  {
   "cell_type": "code",
   "execution_count": 9,
   "metadata": {},
   "outputs": [],
   "source": [
    "def vectorize_sequences(sequences, dimension = 10000):\n",
    "    results = np.zeros( (len(sequences), dimension) )\n",
    "    for i, sequence in enumerate(sequences):\n",
    "        results[i, sequence] = 1.\n",
    "    return results"
   ]
  },
  {
   "cell_type": "markdown",
   "metadata": {},
   "source": [
    "#### Load Data\n"
   ]
  },
  {
   "cell_type": "code",
   "execution_count": 10,
   "metadata": {},
   "outputs": [],
   "source": [
    "\n",
    "((train_data, train_labels), (test_data, test_labels)) = imdb.load_data(num_words = 10000)\n"
   ]
  },
  {
   "cell_type": "markdown",
   "metadata": {},
   "source": [
    "#### Preprocess Data"
   ]
  },
  {
   "cell_type": "code",
   "execution_count": 11,
   "metadata": {},
   "outputs": [],
   "source": [
    "x_train = vectorize_sequences(train_data)\n",
    "x_test = vectorize_sequences(test_data)\n",
    "\n",
    "y_train = np.asarray(train_labels).astype('float32')\n",
    "y_test = np.asarray(test_labels).astype('float32')"
   ]
  },
  {
   "cell_type": "markdown",
   "metadata": {},
   "source": [
    "### Build Model\n",
    "\n",
    "#### Layers\n",
    "Stack of full connected ```relu``` activated layers expected to perform well  \n",
    "First Layer: ```Dense(16, activation='relu', input_shape = (10000, ))``` \n",
    "- transforms input tensor into 1D tensor of length 16 (= 16 dim vector)\n",
    "- layer performs a geometric transformation resulting in a 16 dim space\n",
    "- implements ```output = relu(dot(w, input) + b)```\n",
    "    - weight parameters stored in 2D tensor shape ```(n,16)``` where n = length of input 1D tensor\n",
    "\n",
    "Intermediate Layers:  \n",
    "```Dense(16, activation = 'relu')```\n",
    "\n",
    "\n",
    "```Dense(1, activation = 'sigmoid')```\n",
    "- sigmoid outputs probability \n",
    "- 1D vector (scalar) output \n",
    "\n",
    "#### Loss and Optimizer\n",
    "Binary classification problem => output is a *probability*  \n",
    "\n",
    "Loss = **Binary cross-entropy**  \n",
    "Optimizer = ```RMSprop``` - SGD with momentum  \n",
    "Monitoring Metric = ```accuracy```"
   ]
  },
  {
   "cell_type": "code",
   "execution_count": 12,
   "metadata": {},
   "outputs": [],
   "source": [
    "# build\n",
    "\n",
    "\n",
    "model = models.Sequential()\n",
    "model.add(layers.Dense(16, activation = 'relu', input_shape = (10000,)))\n",
    "model.add(layers.Dense(16, activation = 'relu'))\n",
    "model.add(layers.Dense(1, activation = 'sigmoid'))\n",
    "\n",
    "model.compile(optimizer='rmsprop',\n",
    "             loss='binary_crossentropy',\n",
    "             metrics=['accuracy'])\n"
   ]
  },
  {
   "cell_type": "markdown",
   "metadata": {},
   "source": [
    "### Training and Validation  "
   ]
  },
  {
   "cell_type": "code",
   "execution_count": 13,
   "metadata": {},
   "outputs": [],
   "source": [
    "# Get Validation Set (first 10,000 samples)\n",
    "x_val = x_train[:10000]\n",
    "\n",
    "# Partial Traniing Set\n",
    "partial_x_train = x_train[10000:]\n",
    "\n",
    "# Validation Set Labels\n",
    "y_val = y_train[:10000]\n",
    "\n",
    "# Training set labels\n",
    "partial_y_train = y_train[10000:]\n"
   ]
  },
  {
   "cell_type": "markdown",
   "metadata": {},
   "source": [
    "Train for 20 epochs  \n",
    "Mini-batches of 512 samples  \n",
    "Validation loss and accuracy monitor progress  "
   ]
  },
  {
   "cell_type": "code",
   "execution_count": 14,
   "metadata": {},
   "outputs": [
    {
     "name": "stdout",
     "output_type": "stream",
     "text": [
      "Epoch 1/20\n",
      "30/30 [==============================] - 9s 263ms/step - loss: 0.5172 - accuracy: 0.7888 - val_loss: 0.3930 - val_accuracy: 0.8607\n",
      "Epoch 2/20\n",
      "30/30 [==============================] - 1s 27ms/step - loss: 0.3083 - accuracy: 0.8997 - val_loss: 0.3050 - val_accuracy: 0.8886\n",
      "Epoch 3/20\n",
      "30/30 [==============================] - 1s 24ms/step - loss: 0.2238 - accuracy: 0.9273 - val_loss: 0.2843 - val_accuracy: 0.8865\n",
      "Epoch 4/20\n",
      "30/30 [==============================] - 3s 100ms/step - loss: 0.1754 - accuracy: 0.9435 - val_loss: 0.2830 - val_accuracy: 0.8868\n",
      "Epoch 5/20\n",
      "30/30 [==============================] - 1s 26ms/step - loss: 0.1435 - accuracy: 0.9542 - val_loss: 0.3074 - val_accuracy: 0.8764\n",
      "Epoch 6/20\n",
      "30/30 [==============================] - 1s 25ms/step - loss: 0.1187 - accuracy: 0.9647 - val_loss: 0.3030 - val_accuracy: 0.8828\n",
      "Epoch 7/20\n",
      "30/30 [==============================] - 1s 25ms/step - loss: 0.0979 - accuracy: 0.9719 - val_loss: 0.3084 - val_accuracy: 0.8841\n",
      "Epoch 8/20\n",
      "30/30 [==============================] - 1s 25ms/step - loss: 0.0812 - accuracy: 0.9770 - val_loss: 0.3298 - val_accuracy: 0.8829\n",
      "Epoch 9/20\n",
      "30/30 [==============================] - 1s 23ms/step - loss: 0.0684 - accuracy: 0.9819 - val_loss: 0.3491 - val_accuracy: 0.8798\n",
      "Epoch 10/20\n",
      "30/30 [==============================] - 1s 27ms/step - loss: 0.0538 - accuracy: 0.9869 - val_loss: 0.3786 - val_accuracy: 0.8804\n",
      "Epoch 11/20\n",
      "30/30 [==============================] - 1s 26ms/step - loss: 0.0431 - accuracy: 0.9903 - val_loss: 0.3992 - val_accuracy: 0.8760\n",
      "Epoch 12/20\n",
      "30/30 [==============================] - 1s 25ms/step - loss: 0.0351 - accuracy: 0.9930 - val_loss: 0.4290 - val_accuracy: 0.8736\n",
      "Epoch 13/20\n",
      "30/30 [==============================] - 1s 23ms/step - loss: 0.0303 - accuracy: 0.9934 - val_loss: 0.4673 - val_accuracy: 0.8736\n",
      "Epoch 14/20\n",
      "30/30 [==============================] - 1s 23ms/step - loss: 0.0219 - accuracy: 0.9963 - val_loss: 0.4865 - val_accuracy: 0.8696\n",
      "Epoch 15/20\n",
      "30/30 [==============================] - 1s 25ms/step - loss: 0.0170 - accuracy: 0.9973 - val_loss: 0.5384 - val_accuracy: 0.8622\n",
      "Epoch 16/20\n",
      "30/30 [==============================] - 1s 22ms/step - loss: 0.0110 - accuracy: 0.9993 - val_loss: 0.5503 - val_accuracy: 0.8694\n",
      "Epoch 17/20\n",
      "30/30 [==============================] - 1s 26ms/step - loss: 0.0131 - accuracy: 0.9979 - val_loss: 0.5816 - val_accuracy: 0.8678\n",
      "Epoch 18/20\n",
      "30/30 [==============================] - 1s 24ms/step - loss: 0.0074 - accuracy: 0.9996 - val_loss: 0.6145 - val_accuracy: 0.8681\n",
      "Epoch 19/20\n",
      "30/30 [==============================] - 1s 26ms/step - loss: 0.0057 - accuracy: 0.9997 - val_loss: 0.6773 - val_accuracy: 0.8680\n",
      "Epoch 20/20\n",
      "30/30 [==============================] - 1s 24ms/step - loss: 0.0036 - accuracy: 0.9999 - val_loss: 0.7280 - val_accuracy: 0.8680\n"
     ]
    }
   ],
   "source": [
    "history = model.fit(partial_x_train, \n",
    "                    partial_y_train,\n",
    "                    epochs = 20,\n",
    "                    batch_size = 512,\n",
    "                    validation_data = (x_val, y_val)) "
   ]
  },
  {
   "cell_type": "markdown",
   "metadata": {},
   "source": [
    "```model.fit``` returns a history object as a dictionary  \n",
    "Discover the keys => 4 key-value pairs for each epoch   \n",
    "- valiation \n",
    "- training\n",
    "- loss \n",
    "- accuracy\n"
   ]
  },
  {
   "cell_type": "code",
   "execution_count": 15,
   "metadata": {},
   "outputs": [
    {
     "data": {
      "text/plain": [
       "dict_keys(['loss', 'accuracy', 'val_loss', 'val_accuracy'])"
      ]
     },
     "execution_count": 15,
     "metadata": {},
     "output_type": "execute_result"
    }
   ],
   "source": [
    "history_dict = history.history\n",
    "history_dict.keys()"
   ]
  },
  {
   "cell_type": "markdown",
   "metadata": {},
   "source": [
    "Show training set losses for each epoch"
   ]
  },
  {
   "cell_type": "code",
   "execution_count": 16,
   "metadata": {},
   "outputs": [
    {
     "data": {
      "text/plain": [
       "[0.5172075033187866,\n",
       " 0.3082764744758606,\n",
       " 0.22379790246486664,\n",
       " 0.17537768185138702,\n",
       " 0.1435053050518036,\n",
       " 0.11870578676462173,\n",
       " 0.09793777018785477,\n",
       " 0.08124256879091263,\n",
       " 0.06839421391487122,\n",
       " 0.05379141494631767,\n",
       " 0.043100930750370026,\n",
       " 0.03509043902158737,\n",
       " 0.030299903824925423,\n",
       " 0.02185901068150997,\n",
       " 0.016998883336782455,\n",
       " 0.010954545810818672,\n",
       " 0.013080541975796223,\n",
       " 0.0074321432039141655,\n",
       " 0.005688154604285955,\n",
       " 0.00362161872908473]"
      ]
     },
     "execution_count": 16,
     "metadata": {},
     "output_type": "execute_result"
    }
   ],
   "source": [
    "history_dict['loss']"
   ]
  },
  {
   "cell_type": "markdown",
   "metadata": {},
   "source": [
    "Plot training and validation loss  \n",
    "Training loss decreases => SGD is optimizing  \n",
    "Validation loss decreases then increases => lowest at epoch 4 or 5  "
   ]
  },
  {
   "cell_type": "code",
   "execution_count": 17,
   "metadata": {},
   "outputs": [
    {
     "data": {
      "image/png": "[encoded data removed]",
      "text/plain": [
       "<Figure size 432x288 with 1 Axes>"
      ]
     },
     "metadata": {
      "needs_background": "light"
     },
     "output_type": "display_data"
    }
   ],
   "source": [
    "import matplotlib.pyplot as plt\n",
    "    \n",
    "loss = history_dict['loss']\n",
    "val_loss = history_dict['val_loss']\n",
    "\n",
    "epochs = range(1, len(loss) + 1)\n",
    "\n",
    "blue_dots = 'bo'\n",
    "solid_blue_line = 'b'\n",
    "\n",
    "plt.plot(epochs, loss, blue_dots, label = 'Training loss')\n",
    "plt.plot(epochs, val_loss, solid_blue_line, label = 'Validation loss')\n",
    "plt.title('Training and validation loss')\n",
    "plt.xlabel('Epochs')\n",
    "plt.ylabel('Loss')\n",
    "plt.legend()\n",
    "\n",
    "plt.show()"
   ]
  },
  {
   "cell_type": "code",
   "execution_count": 18,
   "metadata": {},
   "outputs": [
    {
     "data": {
      "text/plain": [
       "[0.7888000011444092,\n",
       " 0.8996666669845581,\n",
       " 0.9273333549499512,\n",
       " 0.9435333609580994,\n",
       " 0.954200029373169,\n",
       " 0.964733362197876,\n",
       " 0.9718666672706604,\n",
       " 0.9769999980926514,\n",
       " 0.9818666577339172,\n",
       " 0.9869333505630493,\n",
       " 0.9903333187103271,\n",
       " 0.9929999709129333,\n",
       " 0.993399977684021,\n",
       " 0.9962666630744934,\n",
       " 0.9972666501998901,\n",
       " 0.9993333220481873,\n",
       " 0.997866690158844,\n",
       " 0.9995999932289124,\n",
       " 0.999666690826416,\n",
       " 0.9998666644096375]"
      ]
     },
     "execution_count": 18,
     "metadata": {},
     "output_type": "execute_result"
    }
   ],
   "source": [
    "history_dict['accuracy']"
   ]
  },
  {
   "cell_type": "code",
   "execution_count": 19,
   "metadata": {},
   "outputs": [
    {
     "data": {
      "image/png": "[encoded data removed]",
      "text/plain": [
       "<Figure size 432x288 with 1 Axes>"
      ]
     },
     "metadata": {
      "needs_background": "light"
     },
     "output_type": "display_data"
    }
   ],
   "source": [
    "plt.clf()\n",
    "\n",
    "acc = history_dict['accuracy']\n",
    "val_acc = history_dict['val_accuracy']\n",
    "    \n",
    "epochs = range(1, len(acc) + 1)\n",
    "\n",
    "blue_dots = 'bo'\n",
    "solid_blue_line = 'b'\n",
    "    \n",
    "plt.plot(epochs, acc, blue_dots, label = 'Training acc')\n",
    "plt.plot(epochs, val_acc, solid_blue_line, label = 'Validation acc')\n",
    "plt.title('Training and validation acc')\n",
    "plt.xlabel('Epochs')\n",
    "plt.ylabel('Accuracy')\n",
    "plt.legend()\n",
    "\n",
    "plt.show()"
   ]
  },
  {
   "cell_type": "markdown",
   "metadata": {},
   "source": [
    "Training Accuracy approaches 1 => this is good  \n",
    "Validation accuracy peaoks early in the run => model has been overtrained  \n",
    "Example of overfitting\n",
    "- fits the training data to well\n",
    "- begins to fail on the validation set\n",
    "- should stop as overfitting kicks in (4 epochs)\n",
    "- should retrain for 4 epochs and then evaluate on test set\n"
   ]
  },
  {
   "cell_type": "code",
   "execution_count": 20,
   "metadata": {},
   "outputs": [
    {
     "name": "stdout",
     "output_type": "stream",
     "text": [
      "Epoch 1/4\n",
      "49/49 [==============================] - 1s 18ms/step - loss: 0.2185 - accuracy: 0.9454\n",
      "Epoch 2/4\n",
      "49/49 [==============================] - 1s 16ms/step - loss: 0.1314 - accuracy: 0.9611\n",
      "Epoch 3/4\n",
      "49/49 [==============================] - 1s 16ms/step - loss: 0.0992 - accuracy: 0.9705\n",
      "Epoch 4/4\n",
      "49/49 [==============================] - 1s 15ms/step - loss: 0.0771 - accuracy: 0.9766\n",
      "782/782 [==============================] - 2s 3ms/step - loss: 0.4912 - accuracy: 0.8580\n"
     ]
    }
   ],
   "source": [
    "history = model.fit(x_train, \n",
    "                    y_train,\n",
    "                    epochs = 4,\n",
    "                    batch_size = 512,\n",
    "                    ) \n",
    "\n",
    "results = model.evaluate(x_test, y_test)\n"
   ]
  },
  {
   "cell_type": "code",
   "execution_count": 21,
   "metadata": {},
   "outputs": [
    {
     "data": {
      "text/plain": [
       "[0.49115699529647827, 0.8580399751663208]"
      ]
     },
     "execution_count": 21,
     "metadata": {},
     "output_type": "execute_result"
    }
   ],
   "source": [
    "results"
   ]
  },
  {
   "cell_type": "markdown",
   "metadata": {},
   "source": [
    "### Accuracy is 85%\n",
    "State of the art should hit 95%\n",
    "\n",
    "\n",
    "## Prediction with Pretrained Network"
   ]
  },
  {
   "cell_type": "code",
   "execution_count": 22,
   "metadata": {},
   "outputs": [
    {
     "name": "stdout",
     "output_type": "stream",
     "text": [
      "1/1 [==============================] - 1s 925ms/step\n"
     ]
    },
    {
     "data": {
      "text/plain": [
       "array([[3.8761612e-02],\n",
       "       [1.0000000e+00],\n",
       "       [8.9485723e-01],\n",
       "       [7.7317560e-01],\n",
       "       [9.9604541e-01],\n",
       "       [9.9914122e-01],\n",
       "       [9.9932140e-01],\n",
       "       [6.6056673e-04],\n",
       "       [9.7270828e-01],\n",
       "       [1.0000000e+00]], dtype=float32)"
      ]
     },
     "execution_count": 22,
     "metadata": {},
     "output_type": "execute_result"
    }
   ],
   "source": [
    "model.predict(x_test[:10])"
   ]
  },
  {
   "cell_type": "code",
   "execution_count": 23,
   "metadata": {},
   "outputs": [
    {
     "data": {
      "text/plain": [
       "array([0, 1, 1, 0, 1, 1, 1, 0, 0, 1], dtype=int64)"
      ]
     },
     "execution_count": 23,
     "metadata": {},
     "output_type": "execute_result"
    }
   ],
   "source": [
    "test_labels[0:10]"
   ]
  },
  {
   "cell_type": "code",
   "execution_count": 24,
   "metadata": {},
   "outputs": [
    {
     "name": "stdout",
     "output_type": "stream",
     "text": [
      "review \t prediction \t \t label\n",
      "1/1 [==============================] - 0s 26ms/step\n",
      "0 \t y_pred \t 0 \t 0\n",
      "1/1 [==============================] - 0s 33ms/step\n",
      "1 \t y_pred \t 1 \t 1\n",
      "1/1 [==============================] - 0s 21ms/step\n",
      "2 \t y_pred \t 1 \t 1\n",
      "1/1 [==============================] - 0s 24ms/step\n",
      "3 \t y_pred \t 1 \t 0\n",
      "1/1 [==============================] - 0s 22ms/step\n",
      "4 \t y_pred \t 1 \t 1\n",
      "1/1 [==============================] - 0s 20ms/step\n",
      "5 \t y_pred \t 1 \t 1\n",
      "1/1 [==============================] - 0s 23ms/step\n",
      "6 \t y_pred \t 1 \t 1\n",
      "1/1 [==============================] - 0s 37ms/step\n",
      "7 \t y_pred \t 0 \t 0\n",
      "1/1 [==============================] - 0s 20ms/step\n",
      "8 \t y_pred \t 1 \t 0\n",
      "1/1 [==============================] - 0s 17ms/step\n",
      "9 \t y_pred \t 1 \t 1\n",
      "1/1 [==============================] - 0s 20ms/step\n",
      "10 \t y_pred \t 1 \t 1\n",
      "1/1 [==============================] - 0s 18ms/step\n",
      "11 \t y_pred \t 0 \t 0\n",
      "1/1 [==============================] - 0s 21ms/step\n",
      "12 \t y_pred \t 0 \t 0\n",
      "1/1 [==============================] - 0s 19ms/step\n",
      "13 \t y_pred \t 0 \t 0\n",
      "1/1 [==============================] - 0s 18ms/step\n",
      "14 \t y_pred \t 1 \t 1\n",
      "1/1 [==============================] - 0s 19ms/step\n",
      "15 \t y_pred \t 0 \t 0\n",
      "1/1 [==============================] - 0s 23ms/step\n",
      "16 \t y_pred \t 1 \t 1\n",
      "1/1 [==============================] - 0s 18ms/step\n",
      "17 \t y_pred \t 1 \t 0\n",
      "1/1 [==============================] - 0s 19ms/step\n",
      "18 \t y_pred \t 0 \t 0\n",
      "1/1 [==============================] - 0s 17ms/step\n",
      "19 \t y_pred \t 0 \t 0\n"
     ]
    }
   ],
   "source": [
    "print('review','\\t','prediction', '\\t', '\\t','label')\n",
    "for i in range(20):\n",
    "    y_pred = model.predict(x_test[i:i+1])[0][0]\n",
    "    print(i, '\\t', 'y_pred', '\\t', round(y_pred), '\\t', test_labels[i])"
   ]
  },
  {
   "cell_type": "markdown",
   "metadata": {},
   "source": [
    "### Further Experiments\n",
    "- more or fewer hidden layers, 32 units, 64 units etc.\n",
    "- replace ```binary_cross_entropy``` loss function with ```mse```\n",
    "- replace ```relu``` with an early NN favourite, ```tanh```\n",
    "- try different learning rates "
   ]
  }
 ],
 "metadata": {
  "kernelspec": {
   "display_name": "Python 3.10.2 64-bit",
   "language": "python",
   "name": "python3"
  },
  "language_info": {
   "codemirror_mode": {
    "name": "ipython",
    "version": 3
   },
   "file_extension": ".py",
   "mimetype": "text/x-python",
   "name": "python",
   "nbconvert_exporter": "python",
   "pygments_lexer": "ipython3",
   "version": "3.10.2"
  },
  "vscode": {
   "interpreter": {
    "hash": "2fc6efb3340bf4aae142c4471c3414bb5b17e6e80ba42a259676c40f0503db89"
   }
  }
 },
 "nbformat": 4,
 "nbformat_minor": 2
}
