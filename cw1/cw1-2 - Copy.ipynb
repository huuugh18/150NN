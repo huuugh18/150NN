{
 "cells": [
  {
   "cell_type": "markdown",
   "metadata": {},
   "source": [
    "# Introduction\n",
    "## 6.1  Define the Task\n",
    "\n",
    "#### Dataset Information\n",
    "Dataset will be the cifar100 dataset from tensorflow. This is a multi-class classification problem with 100 different classes of images to be classified. There are 500 training images and 100 testing images for each of the 100 classes so this is a balanced dataset.\n",
    "\n",
    "#### Accuracy Metric\n",
    "Balanced classification problems such as this a good measure of success will be accuracy and area under the reciever operating characteristic curve. Guessing all one type of class would lead to an accuracy of 1% since there are 100 different classes. \n",
    "\n",
    "#### Evaluation\n",
    "The model will be evaluated using a holdout test set of 10,000 images consisting of 100 of each class. The training set will consist of 500 images of each class for a total of 50,000 images.\n",
    "\n",
    "\n"
   ]
  },
  {
   "cell_type": "code",
   "execution_count": 4,
   "metadata": {},
   "outputs": [],
   "source": [
    "### Show data class information metrics\n",
    "## show that the counts of the labels are balanced"
   ]
  },
  {
   "cell_type": "code",
   "execution_count": 5,
   "metadata": {},
   "outputs": [],
   "source": [
    "from tensorflow.keras.datasets import cifar100"
   ]
  },
  {
   "cell_type": "markdown",
   "metadata": {},
   "source": [
    "This dataset is just like the CIFAR-10, except it has 100 classes containing 600 images each. There are 500 training images and 100 testing images per class. The 100 classes in the CIFAR-100 are grouped into 20 superclasses. Each image comes with a \"fine\" label (the class to which it belongs) and a \"coarse\" label (the superclass to which it belongs)."
   ]
  },
  {
   "cell_type": "markdown",
   "metadata": {},
   "source": [
    "## 6.2 Develop a Model\n",
    "### Data Preparation\n",
    "\n",
    "The data consists of images that are 32x32.  There are 50,000 training images and 10,000 test images. "
   ]
  },
  {
   "attachments": {},
   "cell_type": "markdown",
   "metadata": {},
   "source": [
    "## Examine the data"
   ]
  },
  {
   "cell_type": "code",
   "execution_count": 6,
   "metadata": {},
   "outputs": [],
   "source": [
    "(train_images, train_labels), (test_images, test_labels) = cifar100.load_data()"
   ]
  },
  {
   "cell_type": "code",
   "execution_count": 7,
   "metadata": {},
   "outputs": [
    {
     "name": "stdout",
     "output_type": "stream",
     "text": [
      "tensor shape\n",
      "\ttraining images: (50000, 32, 32, 3)\n",
      "\ttraining labels: (50000, 1)\n",
      "\ttraining images: uint8\n",
      "\ttraining labels: int32\n",
      "\ttest images: (10000, 32, 32, 3)\n",
      "\ttest labels: (10000, 1)\n"
     ]
    }
   ],
   "source": [
    "print('tensor shape')\n",
    "print('\\ttraining images:', train_images.shape)\n",
    "print('\\ttraining labels:', train_labels.shape)\n",
    "print('\\ttraining images:', train_images.dtype)\n",
    "print('\\ttraining labels:', train_labels.dtype)\n",
    "print('\\ttest images:', test_images.shape)\n",
    "print('\\ttest labels:', test_labels.shape)"
   ]
  },
  {
   "cell_type": "code",
   "execution_count": 18,
   "metadata": {},
   "outputs": [
    {
     "data": {
      "image/png": "[encoded data removed]",
      "text/plain": [
       "<Figure size 640x480 with 2 Axes>"
      ]
     },
     "metadata": {},
     "output_type": "display_data"
    }
   ],
   "source": [
    "import matplotlib.pyplot as plt\n",
    "plt.figure()\n",
    "plt.imshow(train_images[0])\n",
    "plt.colorbar()\n",
    "plt.grid(False)\n",
    "plt.show()"
   ]
  },
  {
   "cell_type": "markdown",
   "metadata": {},
   "source": [
    "## Preprocess\n",
    "1. Reshape to flatten 32x32x3 to vector\n",
    "2. Cast vector as floats\n",
    "3. Rescale from [0,1]"
   ]
  },
  {
   "cell_type": "code",
   "execution_count": 8,
   "metadata": {},
   "outputs": [],
   "source": [
    "train_images_flat = train_images.reshape((50000, 32*32*3)).astype('float32') / 255.\n",
    "test_images_flat = test_images.reshape((10000, 32*32*3)).astype('float32') / 255.\n"
   ]
  },
  {
   "cell_type": "code",
   "execution_count": 10,
   "metadata": {},
   "outputs": [
    {
     "data": {
      "text/plain": [
       "array([[19],\n",
       "       [29],\n",
       "       [ 0],\n",
       "       ...,\n",
       "       [ 3],\n",
       "       [ 7],\n",
       "       [73]])"
      ]
     },
     "execution_count": 10,
     "metadata": {},
     "output_type": "execute_result"
    }
   ],
   "source": [
    "train_labels"
   ]
  },
  {
   "cell_type": "code",
   "execution_count": 11,
   "metadata": {},
   "outputs": [],
   "source": [
    "from tensorflow.keras.utils import to_categorical\n",
    "\n",
    "orig_label = train_labels[0]\n",
    "train_labels = to_categorical(train_labels)\n",
    "test_labels = to_categorical(test_labels)\n"
   ]
  },
  {
   "cell_type": "code",
   "execution_count": 12,
   "metadata": {},
   "outputs": [
    {
     "name": "stdout",
     "output_type": "stream",
     "text": [
      "'[19]'as one-hot vector:\n",
      "[0. 0. 0. 0. 0. 0. 0. 0. 0. 0. 0. 0. 0. 0. 0. 0. 0. 0. 0. 1. 0. 0. 0. 0.\n",
      " 0. 0. 0. 0. 0. 0. 0. 0. 0. 0. 0. 0. 0. 0. 0. 0. 0. 0. 0. 0. 0. 0. 0. 0.\n",
      " 0. 0. 0. 0. 0. 0. 0. 0. 0. 0. 0. 0. 0. 0. 0. 0. 0. 0. 0. 0. 0. 0. 0. 0.\n",
      " 0. 0. 0. 0. 0. 0. 0. 0. 0. 0. 0. 0. 0. 0. 0. 0. 0. 0. 0. 0. 0. 0. 0. 0.\n",
      " 0. 0. 0. 0.]\n"
     ]
    }
   ],
   "source": [
    "\n",
    "print('\\'', orig_label, '\\'', 'as one-hot vector:\\n', train_labels[0], sep='')"
   ]
  },
  {
   "cell_type": "markdown",
   "metadata": {},
   "source": [
    "### Baseline Model\n",
    "Start smal, smallest amout of layers can do and small # of units then increase size\n",
    "\n",
    "Only a baseline model if it has \"statistical power\" meaning ??\n",
    "\n",
    "**Selecting loss function**\n",
    "Chose categorical crossentropy but why?\n",
    "General loss function for classification tasks where the evaluation metric is RCO AUC - need to figure out why that is. Used as a proxy, hope is that the lower the crossentropy the higher the ROC AUC will be \n",
    "\n",
    "**Final Layer**  \n",
    "Multi-class single label classification => \n",
    "* last layer activation: **softmax**  \n",
    "* Loss function: **categorical_crossentropy**\n"
   ]
  },
  {
   "cell_type": "code",
   "execution_count": 39,
   "metadata": {},
   "outputs": [
    {
     "name": "stdout",
     "output_type": "stream",
     "text": [
      "Epoch 1/5\n",
      "391/391 [==============================] - 3s 6ms/step - loss: 4.5079 - accuracy: 0.0234\n",
      "Epoch 2/5\n",
      "391/391 [==============================] - 3s 7ms/step - loss: 4.1959 - accuracy: 0.0551\n",
      "Epoch 3/5\n",
      "391/391 [==============================] - 2s 6ms/step - loss: 4.0096 - accuracy: 0.0830\n",
      "Epoch 4/5\n",
      "391/391 [==============================] - 2s 6ms/step - loss: 3.9147 - accuracy: 0.1020\n",
      "Epoch 5/5\n",
      "391/391 [==============================] - 2s 6ms/step - loss: 3.8459 - accuracy: 0.1156\n"
     ]
    },
    {
     "data": {
      "text/plain": [
       "<keras.callbacks.History at 0x2b612325e70>"
      ]
     },
     "execution_count": 39,
     "metadata": {},
     "output_type": "execute_result"
    }
   ],
   "source": [
    "# build\n",
    "from tensorflow.keras import models, layers\n",
    "\n",
    "# create empty network\n",
    "network = models.Sequential()\n",
    "\n",
    "# add 2 layers\n",
    "network.add(layers.Dense(64, activation='relu', input_shape=(32 * 32 * 3, )))\n",
    "network.add(layers.Dense(100, activation='softmax'))\n",
    "\n",
    "network.compile(optimizer='rmsprop',\n",
    "               loss='categorical_crossentropy', \n",
    "               metrics=['accuracy'])\n",
    "\n",
    "network.fit(train_images_flat, train_labels, epochs=5, batch_size=128)"
   ]
  },
  {
   "attachments": {},
   "cell_type": "markdown",
   "metadata": {},
   "source": [
    "Base model has achieved an 11.5% accuracy which is higher than 10% if we were to randomly guess so this is a suitable base model on which to improve upon."
   ]
  },
  {
   "cell_type": "markdown",
   "metadata": {},
   "source": [
    "### 6.2.4 Develop a model that overfits\n",
    "Once have model with statistical power => question is now is model sufficiently powerful?  \n",
    "Enough layers? Enough Parameters? to properly model problem at hand  \n",
    "Universal tension in ML is optimization vs generalization  \n",
    "\n",
    "To figure out how big a model must develop model that overfits  \n",
    "1. Add layers\n",
    "2. make layers bigger\n",
    "3. train for more epochs\n",
    "\n",
    "Monitor the training loss and validation loss as well as training and validation values for any metrics that you care about  \n",
    "\n",
    "**Overfitting:** Once see that model's performance on validation data begins to degrade\n",
    "\n",
    "\n"
   ]
  },
  {
   "cell_type": "code",
   "execution_count": 66,
   "metadata": {},
   "outputs": [],
   "source": [
    "def build_network(units_list, learning_rate=0.01, epochs=5):\n",
    "    network = models.Sequential()\n",
    "    \n",
    "    #first layer - needs input_shape\n",
    "    network.add(layers.Dense(units_list[0], activation='relu', input_shape=(32 * 32 * 3, )))\n",
    "    \n",
    "    #middle layers\n",
    "    for units in units_list[1:]:\n",
    "        network.add(layers.Dense(units))\n",
    "    \n",
    "    #last layer\n",
    "    network.add(layers.Dense(100, activation='softmax'))\n",
    "    \n",
    "    \n",
    "    network.compile(optimizer='rmsprop',\n",
    "                loss='categorical_crossentropy', \n",
    "                metrics=['accuracy'])\n",
    "\n",
    "    history = network.fit(\n",
    "        train_images_flat, train_labels, \n",
    "        epochs=epochs, \n",
    "    )\n",
    "    \n",
    "    return history"
   ]
  },
  {
   "attachments": {},
   "cell_type": "markdown",
   "metadata": {},
   "source": [
    "## Hyperparameter search space\n",
    "**Layers**\n",
    "1,2,3 layers\n",
    "**Units**\n",
    "[64, 128, 256, 512, 1024]\n",
    "**Learning Rate**\n",
    "[0.01, 0.05, 0.1, 0.2, 0.5]"
   ]
  },
  {
   "cell_type": "code",
   "execution_count": 55,
   "metadata": {},
   "outputs": [],
   "source": [
    "unit_space = [64, 128, 256, 512, 1024]\n",
    "learning_rate_space = [0.01, 0.1, 0.3]\n",
    "layer_space = [1,2,3]\n"
   ]
  },
  {
   "cell_type": "code",
   "execution_count": 58,
   "metadata": {},
   "outputs": [],
   "source": [
    "def get_search_grid(unit_space, learning_rate_space, layer_space):\n",
    "    search_space = []\n",
    "    # layer1space.append(2)\n",
    "    for units in unit_space:\n",
    "        for lr in learning_rate_space:\n",
    "            search_space.append([[units], lr])\n",
    "    layer2space = []\n",
    "    for units1 in unit_space:\n",
    "        for units2 in unit_space:\n",
    "            for lr in learning_rate_space:\n",
    "                search_space.append([[units1, units2],lr])\n",
    "    layer3space = []\n",
    "    for u1 in unit_space:\n",
    "        for u2 in unit_space:\n",
    "            for u3 in unit_space:\n",
    "                for lr in learning_rate_space:\n",
    "                    search_space.append([[u1, u2, u3], lr])\n",
    "    return search_space\n",
    "\n",
    "search_space = get_search_grid(unit_space, learning_rate_space, layer_space)"
   ]
  },
  {
   "cell_type": "code",
   "execution_count": 60,
   "metadata": {},
   "outputs": [
    {
     "name": "stdout",
     "output_type": "stream",
     "text": [
      "Length of search space:  465\n"
     ]
    },
    {
     "data": {
      "text/plain": [
       "[[[256, 128], 0.3],\n",
       " [[256, 256], 0.01],\n",
       " [[256, 256], 0.1],\n",
       " [[256, 256], 0.3],\n",
       " [[256, 512], 0.01]]"
      ]
     },
     "execution_count": 60,
     "metadata": {},
     "output_type": "execute_result"
    }
   ],
   "source": [
    "print('Length of search space: ', len(search_space))\n",
    "search_space[50:55]      "
   ]
  },
  {
   "cell_type": "code",
   "execution_count": 68,
   "metadata": {},
   "outputs": [],
   "source": [
    "def run_grid_search(search_space):\n",
    "    accuracy_history = []\n",
    "    loss_history = []\n",
    "    for params in search_space:\n",
    "        history = build_network(params[0], params[1], epochs=5)\n",
    "        accuracy_history.append(history.history['accuracy'])\n",
    "        loss_history.append(history.history['loss'])\n",
    "    return accuracy_history,loss_history"
   ]
  },
  {
   "cell_type": "code",
   "execution_count": null,
   "metadata": {},
   "outputs": [],
   "source": [
    "acc_hist, loss_hist = run_grid_search(search_space[10:14])"
   ]
  },
  {
   "cell_type": "code",
   "execution_count": 62,
   "metadata": {},
   "outputs": [
    {
     "name": "stdout",
     "output_type": "stream",
     "text": [
      "Epoch 1/5\n",
      "1563/1563 [==============================] - 16s 9ms/step - loss: 4.2205 - accuracy: 0.0481\n",
      "Epoch 2/5\n",
      "1563/1563 [==============================] - 13s 9ms/step - loss: 4.0111 - accuracy: 0.0782\n",
      "Epoch 3/5\n",
      "1563/1563 [==============================] - 14s 9ms/step - loss: 3.9132 - accuracy: 0.0940\n",
      "Epoch 4/5\n",
      "1563/1563 [==============================] - 14s 9ms/step - loss: 3.8444 - accuracy: 0.1073\n",
      "Epoch 5/5\n",
      "1563/1563 [==============================] - 15s 9ms/step - loss: 3.7992 - accuracy: 0.1162\n"
     ]
    }
   ],
   "source": [
    "history_2_layer_128_512 = build_network([128,512])\n"
   ]
  },
  {
   "cell_type": "code",
   "execution_count": 65,
   "metadata": {},
   "outputs": [
    {
     "name": "stdout",
     "output_type": "stream",
     "text": [
      "{'verbose': 1, 'epochs': 5, 'steps': 1563}\n",
      "dict_keys(['loss', 'accuracy'])\n",
      "[0.04808000102639198, 0.07818000018596649, 0.09397999942302704, 0.10726000368595123, 0.11618000268936157]\n"
     ]
    }
   ],
   "source": [
    "print(history_2_layer_128_512.params)\n",
    "\n",
    "# check the keys of history object\n",
    "print(history_2_layer_128_512.history.keys())\n",
    "\n",
    "print(history_2_layer_128_512.history['accuracy'])\n"
   ]
  },
  {
   "cell_type": "code",
   "execution_count": 45,
   "metadata": {},
   "outputs": [
    {
     "name": "stdout",
     "output_type": "stream",
     "text": [
      "Epoch 1/5\n",
      "391/391 [==============================] - 6s 12ms/step - loss: 4.2047 - accuracy: 0.0584\n",
      "Epoch 2/5\n",
      "391/391 [==============================] - 5s 12ms/step - loss: 3.9009 - accuracy: 0.0992\n",
      "Epoch 3/5\n",
      "391/391 [==============================] - 5s 12ms/step - loss: 3.8024 - accuracy: 0.1156\n",
      "Epoch 4/5\n",
      "391/391 [==============================] - 5s 14ms/step - loss: 3.7392 - accuracy: 0.1276\n",
      "Epoch 5/5\n",
      "391/391 [==============================] - 5s 12ms/step - loss: 3.6859 - accuracy: 0.1351\n"
     ]
    }
   ],
   "source": [
    "history_3_layer_128_128_512 = build_network([128,128,512])"
   ]
  },
  {
   "cell_type": "code",
   "execution_count": 46,
   "metadata": {},
   "outputs": [
    {
     "name": "stdout",
     "output_type": "stream",
     "text": [
      "Epoch 1/5\n",
      "391/391 [==============================] - 13s 31ms/step - loss: 4.3248 - accuracy: 0.0620\n",
      "Epoch 2/5\n",
      "391/391 [==============================] - 12s 30ms/step - loss: 3.8175 - accuracy: 0.1162\n",
      "Epoch 3/5\n",
      "391/391 [==============================] - 12s 30ms/step - loss: 3.6722 - accuracy: 0.1422\n",
      "Epoch 4/5\n",
      "391/391 [==============================] - 12s 30ms/step - loss: 3.5761 - accuracy: 0.1577\n",
      "Epoch 5/5\n",
      "391/391 [==============================] - 12s 30ms/step - loss: 3.5096 - accuracy: 0.1724\n"
     ]
    }
   ],
   "source": [
    "history_3_layer_512_128_128 = build_network([512,128,128])"
   ]
  },
  {
   "cell_type": "code",
   "execution_count": 47,
   "metadata": {},
   "outputs": [
    {
     "name": "stdout",
     "output_type": "stream",
     "text": [
      "Epoch 1/5\n",
      "391/391 [==============================] - 13s 31ms/step - loss: 4.2092 - accuracy: 0.0697\n",
      "Epoch 2/5\n",
      "391/391 [==============================] - 12s 30ms/step - loss: 3.8116 - accuracy: 0.1196\n",
      "Epoch 3/5\n",
      "391/391 [==============================] - 12s 31ms/step - loss: 3.6724 - accuracy: 0.1446\n",
      "Epoch 4/5\n",
      "391/391 [==============================] - 12s 32ms/step - loss: 3.5815 - accuracy: 0.1598\n",
      "Epoch 5/5\n",
      "391/391 [==============================] - 12s 31ms/step - loss: 3.5112 - accuracy: 0.1691\n"
     ]
    }
   ],
   "source": [
    "history_2_layer_512_128 = build_network([512, 128])"
   ]
  },
  {
   "cell_type": "code",
   "execution_count": 40,
   "metadata": {},
   "outputs": [
    {
     "name": "stdout",
     "output_type": "stream",
     "text": [
      "Epoch 1/5\n",
      "391/391 [==============================] - 4s 9ms/step - loss: 4.2244 - accuracy: 0.0598\n",
      "Epoch 2/5\n",
      "391/391 [==============================] - 3s 9ms/step - loss: 3.8759 - accuracy: 0.1079\n",
      "Epoch 3/5\n",
      "391/391 [==============================] - 3s 8ms/step - loss: 3.7416 - accuracy: 0.1279\n",
      "Epoch 4/5\n",
      "391/391 [==============================] - 4s 9ms/step - loss: 3.6581 - accuracy: 0.1409\n",
      "Epoch 5/5\n",
      "391/391 [==============================] - 4s 10ms/step - loss: 3.5847 - accuracy: 0.1541\n"
     ]
    }
   ],
   "source": [
    "# create empty network\n",
    "network = models.Sequential()\n",
    "\n",
    "# add 2 layers\n",
    "network.add(layers.Dense(128, activation='relu', input_shape=(32 * 32 * 3, )))\n",
    "network.add(layers.Dense(128, activation='relu'))\n",
    "network.add(layers.Dense(100, activation='softmax'))\n",
    "\n",
    "network.compile(optimizer='rmsprop',\n",
    "               loss='categorical_crossentropy', \n",
    "               metrics=['accuracy'])\n",
    "\n",
    "history1 = network.fit(\n",
    "    train_images_flat, train_labels, \n",
    "    epochs=5, \n",
    "    batch_size=128\n",
    ")"
   ]
  },
  {
   "cell_type": "code",
   "execution_count": 34,
   "metadata": {},
   "outputs": [
    {
     "ename": "KeyError",
     "evalue": "'val_loss'",
     "output_type": "error",
     "traceback": [
      "\u001b[1;31m---------------------------------------------------------------------------\u001b[0m",
      "\u001b[1;31mKeyError\u001b[0m                                  Traceback (most recent call last)",
      "\u001b[1;32mc:\\Users\\hugho\\Documents\\datascience\\150NN\\cw1\\cw1-2.ipynb Cell 21\u001b[0m in \u001b[0;36m<cell line: 1>\u001b[1;34m()\u001b[0m\n\u001b[1;32m----> <a href='vscode-notebook-cell:/c%3A/Users/hugho/Documents/datascience/150NN/cw1/cw1-2.ipynb#X62sZmlsZQ%3D%3D?line=0'>1</a>\u001b[0m val_loss \u001b[39m=\u001b[39m history1\u001b[39m.\u001b[39;49mhistory[\u001b[39m\"\u001b[39;49m\u001b[39mval_loss\u001b[39;49m\u001b[39m\"\u001b[39;49m]\n\u001b[0;32m      <a href='vscode-notebook-cell:/c%3A/Users/hugho/Documents/datascience/150NN/cw1/cw1-2.ipynb#X62sZmlsZQ%3D%3D?line=1'>2</a>\u001b[0m epochs \u001b[39m=\u001b[39m \u001b[39mrange\u001b[39m(\u001b[39m1\u001b[39m, \u001b[39m21\u001b[39m)\n\u001b[0;32m      <a href='vscode-notebook-cell:/c%3A/Users/hugho/Documents/datascience/150NN/cw1/cw1-2.ipynb#X62sZmlsZQ%3D%3D?line=2'>3</a>\u001b[0m plt\u001b[39m.\u001b[39mplot(epochs, val_loss, \u001b[39m\"\u001b[39m\u001b[39mb--\u001b[39m\u001b[39m\"\u001b[39m,\n\u001b[0;32m      <a href='vscode-notebook-cell:/c%3A/Users/hugho/Documents/datascience/150NN/cw1/cw1-2.ipynb#X62sZmlsZQ%3D%3D?line=3'>4</a>\u001b[0m  label\u001b[39m=\u001b[39m\u001b[39m\"\u001b[39m\u001b[39mValidation loss\u001b[39m\u001b[39m\"\u001b[39m)\n",
      "\u001b[1;31mKeyError\u001b[0m: 'val_loss'"
     ]
    }
   ],
   "source": [
    "val_loss = history1.history[\"val_loss\"]\n",
    "epochs = range(1, 21)\n",
    "plt.plot(epochs, val_loss, \"b--\",\n",
    " label=\"Validation loss\")\n",
    "plt.title(\"Effect of insufficient model capacity on validation loss\")\n",
    "plt.xlabel(\"Epochs\")\n",
    "plt.ylabel(\"Loss\")\n",
    "plt.legend()"
   ]
  },
  {
   "cell_type": "markdown",
   "metadata": {},
   "source": [
    "### 6.2.5 Hyperparamater tuning\n",
    "\n",
    "goal now is to maximize generalization performance  \n",
    "repeatedly modify model and train it and evaluate it (**on evaluation data NOT test data**)  \n",
    "\n",
    "\n",
    "\n",
    "**Search Space**\n",
    "1. learning rate\n",
    "2. units\n",
    "3. layers\n",
    "    ii. add or remove layers\n",
    "4. add dropout"
   ]
  },
  {
   "cell_type": "code",
   "execution_count": null,
   "metadata": {},
   "outputs": [],
   "source": []
  }
 ],
 "metadata": {
  "kernelspec": {
   "display_name": "Python 3 (ipykernel)",
   "language": "python",
   "name": "python3"
  },
  "language_info": {
   "codemirror_mode": {
    "name": "ipython",
    "version": 3
   },
   "file_extension": ".py",
   "mimetype": "text/x-python",
   "name": "python",
   "nbconvert_exporter": "python",
   "pygments_lexer": "ipython3",
   "version": "3.10.8"
  },
  "vscode": {
   "interpreter": {
    "hash": "2fc6efb3340bf4aae142c4471c3414bb5b17e6e80ba42a259676c40f0503db89"
   }
  }
 },
 "nbformat": 4,
 "nbformat_minor": 2
}
