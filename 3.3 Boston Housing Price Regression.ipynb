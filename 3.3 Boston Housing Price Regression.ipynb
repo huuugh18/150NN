{
 "cells": [
  {
   "cell_type": "code",
   "execution_count": 6,
   "metadata": {},
   "outputs": [],
   "source": [
    "from tensorflow.keras.datasets import boston_housing\n",
    "from tensorflow.keras import models\n",
    "from tensorflow.keras import layers"
   ]
  },
  {
   "cell_type": "code",
   "execution_count": 2,
   "metadata": {},
   "outputs": [
    {
     "name": "stdout",
     "output_type": "stream",
     "text": [
      "Downloading data from https://storage.googleapis.com/tensorflow/tf-keras-datasets/boston_housing.npz\n",
      "57026/57026 [==============================] - 0s 1us/step\n"
     ]
    }
   ],
   "source": [
    "(train_data, train_targets), (test_data, test_targets) = (boston_housing.load_data())"
   ]
  },
  {
   "cell_type": "code",
   "execution_count": 3,
   "metadata": {},
   "outputs": [
    {
     "name": "stdout",
     "output_type": "stream",
     "text": [
      "Train Data (404, 13)\n",
      "test Data (102, 13)\n"
     ]
    }
   ],
   "source": [
    "print('Train Data', train_data.shape)\n",
    "print('test Data', test_data.shape)"
   ]
  },
  {
   "cell_type": "markdown",
   "metadata": {},
   "source": [
    "404 training samples and 102 test samples with 13 features   \n",
    "\n",
    "targets are the median values of owner-occupied homes (1000s of $$)\n",
    "\n",
    "## Perparing the Data\n",
    "\n",
    "**Feature wise normalization**  \n",
    "Need to normalize the features as they are all of different scales  \n",
    "For each feature: subtract the mean of the feature and divide by standard deviation  \n",
    "Data is now centered around 0 and has a unit of standard deviation - done using NumPy"
   ]
  },
  {
   "cell_type": "code",
   "execution_count": 5,
   "metadata": {},
   "outputs": [],
   "source": [
    "import numpy as np\n",
    "\n",
    "mean = train_data.mean(axis=0)\n",
    "train_data -= mean\n",
    "std = train_data.std(axis=0)\n",
    "train_data /= std\n",
    "\n",
    "test_data -= mean\n",
    "test_data /= std"
   ]
  },
  {
   "cell_type": "markdown",
   "metadata": {},
   "source": [
    "**Note** quantities used for narmalizing the test data are comupted using the training data  \n",
    "Should never use any quantity computed on the test data in your workflow, even for something like data normalization  \n",
    "\n",
    "## Building Model\n",
    "\n",
    "few samples => use small model with 2 intermediate layers (each 64 units)  \n",
    "\n",
    "**In general: the less training data, the wores overfitting will be so use a small model to mitigate overfitting**"
   ]
  },
  {
   "cell_type": "code",
   "execution_count": 36,
   "metadata": {},
   "outputs": [],
   "source": [
    "\n",
    "\n",
    "def build_model():\n",
    "    model = models.Sequential()\n",
    "    \n",
    "    model.add(layers.Dense(64, activation = 'relu'))\n",
    "    model.add(layers.Dense(128, activation = 'relu'))\n",
    "    model.add(layers.Dense(1))\n",
    "    \n",
    "    model.compile(optimizer = 'rmsprop', loss = 'mse', metrics = ['mae'])\n",
    "\n",
    "    return model"
   ]
  },
  {
   "cell_type": "markdown",
   "metadata": {},
   "source": [
    "Model ends with single unit - no activation (linear layer) = typical setup for scalar regression  \n",
    "    - Scalar regression = regression trying to predict a sigle continuous value  \n",
    "    - Activation func would constrain the range the output can take - this model we want to be able to predict values in any range  \n",
    "    -   Example: sigmoid activation would force result into rango of 0 and 1, not useful for this \n",
    "\n",
    "**Loss Function**: MSE - mean squared error\n",
    "\n",
    "**Monitoring Metric**: MAE - mean ablotue value of the difference between predictions and the targets  \n",
    "\n"
   ]
  },
  {
   "cell_type": "markdown",
   "metadata": {},
   "source": [
    "## Validating Model - k-Fold Validation\n",
    "\n",
    "Small dataset, hard to keep splitting data into training set and validation set to test hyperparameters  \n",
    "Validation scores might change a lot depending on which data points chosen for validation:  \n",
    "    - validation scores might have a high *variance* with regard to validation split\n",
    "    - would prevent us from reliably evaluating model  \n",
    "\n",
    "Best Practice: **k-fold cross validation**  \n",
    "split available data into k partions (usually 4 or 5)  \n",
    "create k models traninig each on k-1 partitions and evaluating on remaining fold  \n",
    "Validation score = average across all k validation scores  "
   ]
  },
  {
   "cell_type": "code",
   "execution_count": 38,
   "metadata": {},
   "outputs": [
    {
     "name": "stdout",
     "output_type": "stream",
     "text": [
      "processing fold 0\n",
      "processing fold 1\n",
      "processing fold 2\n",
      "processing fold 3\n"
     ]
    }
   ],
   "source": [
    "K = 4\n",
    "num_val_samples = len(train_data) // K\n",
    "num_epochs = 100\n",
    "all_scores_64_128 = []\n",
    "\n",
    "for i in range(K):\n",
    "    print('processing fold', i)\n",
    "    \n",
    "    # Prepare the validation data: data from partition i\n",
    "    a, b = i * num_val_samples, (i + 1) * num_val_samples\n",
    "    val_data = train_data[a : b]\n",
    "    val_targets = train_targets[a : b]\n",
    "    \n",
    "    # Prepare the training data: data from all other partitions\n",
    "    partial_train_data = np.concatenate([train_data[:a], train_data[b:]], axis=0)\n",
    "    partial_train_targets = np.concatenate([train_targets[:a], train_targets[b:]], axis=0)\n",
    "    \n",
    "    # Build the Keras model (already compiled)\n",
    "    model = build_model()\n",
    "    \n",
    "    # Train the model (in silent mode, verbose=0)\n",
    "    model.fit(partial_train_data, partial_train_targets, epochs=num_epochs, batch_size=1, verbose=0)\n",
    "    \n",
    "    # Evaluate the model on the validation datam\n",
    "    val_mse, val_mae = model.evaluate(val_data, val_targets, verbose=0)\n",
    "    all_scores_64_128.append(val_mae)"
   ]
  },
  {
   "cell_type": "markdown",
   "metadata": {},
   "source": [
    "The K-fold training code. K is 4. Training and validation occurs in a loop: a network is instantiated at each pass and the validation and partial training set is sliced from the training set. The validation mean absolute error is added to the `all_scores` list.\n",
    "\n",
    "Looking at the validation score at termination, not at each epoch (no ```history``` object)  \n",
    "\n",
    "Long training run = 100 epochs"
   ]
  },
  {
   "cell_type": "code",
   "execution_count": 35,
   "metadata": {},
   "outputs": [
    {
     "name": "stdout",
     "output_type": "stream",
     "text": [
      "[1.8813482522964478, 2.5075647830963135, 2.751779079437256, 2.6628997325897217]\n"
     ]
    },
    {
     "data": {
      "text/plain": [
       "2.4508979618549347"
      ]
     },
     "execution_count": 35,
     "metadata": {},
     "output_type": "execute_result"
    }
   ],
   "source": [
    "# first layer 32 instead of 64\n",
    "# 32 - 64\n",
    "print(all_scores)\n",
    "np.mean(all_scores)"
   ]
  },
  {
   "cell_type": "code",
   "execution_count": 9,
   "metadata": {},
   "outputs": [
    {
     "name": "stdout",
     "output_type": "stream",
     "text": [
      "[2.128096103668213, 2.2890005111694336, 2.5823779106140137, 2.372307538986206]\n"
     ]
    },
    {
     "data": {
      "text/plain": [
       "2.3429455161094666"
      ]
     },
     "execution_count": 9,
     "metadata": {},
     "output_type": "execute_result"
    }
   ],
   "source": [
    "# 64 - 64\n",
    "print(all_scores)\n",
    "np.mean(all_scores)"
   ]
  },
  {
   "cell_type": "code",
   "execution_count": 39,
   "metadata": {},
   "outputs": [
    {
     "name": "stdout",
     "output_type": "stream",
     "text": [
      "[2.1633293628692627, 2.6807217597961426, 3.3678784370422363, 2.4231629371643066] 2.658773124217987\n"
     ]
    }
   ],
   "source": [
    "# 64 - 128\n",
    "print(all_scores_64_128, np.mean(all_scores_64_128))"
   ]
  },
  {
   "cell_type": "markdown",
   "metadata": {},
   "source": [
    "After testing different amounts of units for the layers find that 64 was optimal for the 2nd layer"
   ]
  },
  {
   "cell_type": "markdown",
   "metadata": {},
   "source": [
    "Different runs show different scores - average more relibale metric than single score  \n",
    "\n",
    "In this case off by 2.34 * $1000 = $2,343 per  estimate which is large for price ranges of $10,000 - $50,000 \n",
    "\n",
    "What to do ?\n",
    "Try training model longer with 500 epochs  \n",
    "\n",
    "This time get ```history``` object to record validation MAE at each epoch"
   ]
  },
  {
   "cell_type": "code",
   "execution_count": 11,
   "metadata": {},
   "outputs": [],
   "source": [
    "import tensorflow as tf \n",
    "\n",
    "class CustomCallback(tf.keras.callbacks.Callback):\n",
    "    def on_epoch_begin(self, epoch, logs=None):\n",
    "        c = ['\\b|', '\\b/', '\\b-', '\\b\\\\'] \n",
    "        print(c[epoch % 4], end='')\n",
    "    def on_epoch_end(self, epoch, logs=None):\n",
    "        print('\\b', end='')"
   ]
  },
  {
   "cell_type": "code",
   "execution_count": 12,
   "metadata": {},
   "outputs": [
    {
     "name": "stdout",
     "output_type": "stream",
     "text": [
      "processing fold 0\n",
      "processing fold 1\n",
      "processing fold 2\n",
      "processing fold 3\n"
     ]
    }
   ],
   "source": [
    "import numpy as np, tensorflow as tf\n",
    "K = 4\n",
    "num_val_samples = len(train_data) // K\n",
    "num_epochs = 200\n",
    "all_mae_histories = []\n",
    "for i in range(K):\n",
    "    print('processing fold', i)\n",
    "    \n",
    "    # Prepare the validation data: data from partition i\n",
    "    a, b = i * num_val_samples, (i + 1) * num_val_samples\n",
    "    val_data = train_data[a : b]\n",
    "    val_targets = train_targets[a : b]\n",
    "    \n",
    "    # Prepare the training data: data from all other partitions\n",
    "    partial_train_data = np.concatenate([train_data[:a], train_data[b:]], axis=0)\n",
    "    partial_train_targets = np.concatenate([train_targets[:a], train_targets[b:]], axis=0)\n",
    "\n",
    "    # Build the Keras model (already compiled)\n",
    "    model = build_model()\n",
    "    \n",
    "    # Train the model (in silent mode, verbose=0)\n",
    "    history = model.fit(partial_train_data, partial_train_targets,\n",
    "                        validation_data=(val_data, val_targets),\n",
    "                        epochs=num_epochs, batch_size=1, verbose=0)\n",
    "\n",
    "    mae_history = history.history['val_mae']\n",
    "    all_mae_histories.append(mae_history)"
   ]
  },
  {
   "cell_type": "code",
   "execution_count": 16,
   "metadata": {},
   "outputs": [
    {
     "data": {
      "image/png": "[encoded data removed]",
      "text/plain": [
       "<Figure size 432x288 with 1 Axes>"
      ]
     },
     "metadata": {
      "needs_background": "light"
     },
     "output_type": "display_data"
    }
   ],
   "source": [
    "average_mae_history = [np.mean([x[i] for x in all_mae_histories]) for i in range(num_epochs)]\n",
    "\n",
    "import matplotlib.pyplot as plt\n",
    "\n",
    "plt.plot(range(1, len(average_mae_history) + 1), average_mae_history)\n",
    "plt.xlabel('Epochs')\n",
    "plt.ylabel('Validation MAE')\n",
    "plt.show()"
   ]
  },
  {
   "cell_type": "markdown",
   "metadata": {},
   "source": [
    "plot is noisy and first few points at a different scale - smooth data and omit first 10 points:  \n",
    "\n",
    "Code to smooth data: \n",
    "replacing each data point with a weighted sum of itself and the previous smoothed point."
   ]
  },
  {
   "cell_type": "code",
   "execution_count": 17,
   "metadata": {},
   "outputs": [],
   "source": [
    "def smooth_curve(points, factor = 0.9):\n",
    "    smoothed_points = []\n",
    "    for point in points:\n",
    "        if smoothed_points: # an empty list is 'False'\n",
    "            previous = smoothed_points[-1] # the last appended point\n",
    "            smoothed_points.append(previous * factor + point * (1 - factor))\n",
    "        else:\n",
    "            smoothed_points.append(point)\n",
    "    return smoothed_points"
   ]
  },
  {
   "cell_type": "code",
   "execution_count": 18,
   "metadata": {},
   "outputs": [
    {
     "data": {
      "image/png": "[encoded data removed]",
      "text/plain": [
       "<Figure size 432x288 with 1 Axes>"
      ]
     },
     "metadata": {
      "needs_background": "light"
     },
     "output_type": "display_data"
    }
   ],
   "source": [
    "smooth_mae_history = smooth_curve(mae_history[10:])\n",
    "\n",
    "plt.plot(range(1, len(smooth_mae_history) + 1), smooth_mae_history)\n",
    "plt.xlabel('Epochs')\n",
    "plt.ylabel('Validation MAE')\n",
    "plt.show()"
   ]
  },
  {
   "cell_type": "code",
   "execution_count": 19,
   "metadata": {},
   "outputs": [
    {
     "name": "stdout",
     "output_type": "stream",
     "text": [
      "253\n"
     ]
    }
   ],
   "source": [
    "print(np.argmin(smooth_mae_history))"
   ]
  },
  {
   "cell_type": "markdown",
   "metadata": {},
   "source": [
    "Can see that MAE stops improving significantly after 250ish epochs - past that => **overfitting**  \n",
    "    - also can see it has a bottom around 100 as well\n",
    "(textbook finds that it's actually around 130)\n",
    "\n",
    "After tuning epochs should tune size of intermediate layers  \n",
    "\n",
    "Once done tuning: train a final production model on all the training data with best parameters then look at its performance on the test data  "
   ]
  },
  {
   "cell_type": "code",
   "execution_count": 29,
   "metadata": {},
   "outputs": [
    {
     "name": "stdout",
     "output_type": "stream",
     "text": [
      "4/4 [==============================] - 0s 1ms/step - loss: 14.7429 - mae: 2.5284\n"
     ]
    }
   ],
   "source": [
    "model = build_model()\n",
    "model.fit(train_data, train_targets,\n",
    "epochs = 115, batch_size = 16, verbose = 0)\n",
    "\n",
    "test_mse_score, test_mae_score = model.evaluate(test_data, test_targets)"
   ]
  },
  {
   "cell_type": "code",
   "execution_count": 31,
   "metadata": {},
   "outputs": [
    {
     "name": "stdout",
     "output_type": "stream",
     "text": [
      "$2528\n"
     ]
    }
   ],
   "source": [
    "print('$', \"%2.0f\" % (test_mae_score * 1000), sep='')"
   ]
  },
  {
   "cell_type": "markdown",
   "metadata": {},
   "source": [
    "### Generate Predictions"
   ]
  },
  {
   "cell_type": "code",
   "execution_count": 32,
   "metadata": {},
   "outputs": [
    {
     "name": "stdout",
     "output_type": "stream",
     "text": [
      "4/4 [==============================] - 0s 2ms/step\n"
     ]
    },
    {
     "data": {
      "text/plain": [
       "array([9.139447], dtype=float32)"
      ]
     },
     "execution_count": 32,
     "metadata": {},
     "output_type": "execute_result"
    }
   ],
   "source": [
    "predictions = model.predict(test_data)\n",
    "predictions[0]"
   ]
  }
 ],
 "metadata": {
  "kernelspec": {
   "display_name": "Python 3.10.2 64-bit",
   "language": "python",
   "name": "python3"
  },
  "language_info": {
   "codemirror_mode": {
    "name": "ipython",
    "version": 3
   },
   "file_extension": ".py",
   "mimetype": "text/x-python",
   "name": "python",
   "nbconvert_exporter": "python",
   "pygments_lexer": "ipython3",
   "version": "3.10.2"
  },
  "orig_nbformat": 4,
  "vscode": {
   "interpreter": {
    "hash": "2fc6efb3340bf4aae142c4471c3414bb5b17e6e80ba42a259676c40f0503db89"
   }
  }
 },
 "nbformat": 4,
 "nbformat_minor": 2
}
