{
 "cells": [
  {
   "cell_type": "code",
   "execution_count": 38,
   "metadata": {},
   "outputs": [],
   "source": [
    "import keras \n",
    "from keras.callbacks import CSVLogger\n",
    "from tensorflow.keras import models, layers\n",
    "\n",
    "import matplotlib.pyplot as plt\n"
   ]
  },
  {
   "cell_type": "code",
   "execution_count": 2,
   "metadata": {},
   "outputs": [],
   "source": [
    "from tensorflow.keras.datasets import cifar100\n"
   ]
  },
  {
   "cell_type": "code",
   "execution_count": 3,
   "metadata": {},
   "outputs": [],
   "source": [
    "(train_images, train_labels), (test_images, test_labels) = cifar100.load_data()"
   ]
  },
  {
   "cell_type": "code",
   "execution_count": 39,
   "metadata": {},
   "outputs": [
    {
     "name": "stdout",
     "output_type": "stream",
     "text": [
      "tensor shape\n",
      "\ttraining images: (50000, 32, 32, 3)\n",
      "\ttraining labels: (50000, 1)\n",
      "\ttraining images: float32\n",
      "\ttraining labels: int32\n",
      "\ttest images: (10000, 32, 32, 3)\n",
      "\ttest labels: (10000, 1)\n"
     ]
    }
   ],
   "source": [
    "print('tensor shape')\n",
    "print('\\ttraining images:', train_images.shape)\n",
    "print('\\ttraining labels:', train_labels.shape)\n",
    "print('\\ttraining images:', train_images.dtype)\n",
    "print('\\ttraining labels:', train_labels.dtype)\n",
    "print('\\ttest images:', test_images.shape)\n",
    "print('\\ttest labels:', test_labels.shape)"
   ]
  },
  {
   "cell_type": "code",
   "execution_count": 40,
   "metadata": {},
   "outputs": [],
   "source": [
    "train_images = train_images.reshape((50000, 32, 32, 3))\n",
    "# train_images = train_images.astype(\"float32\") / 255\n",
    "\n",
    "test_images = test_images.reshape((10000, 32, 32, 3))\n",
    "# test_images = test_images.astype(\"float32\") / 255"
   ]
  },
  {
   "cell_type": "code",
   "execution_count": 7,
   "metadata": {},
   "outputs": [],
   "source": [
    "# for i,image in enumerate(train_images[:2]):\n",
    "#     plt.imshow(train_images[i])\n",
    "#     plt.colorbar()\n",
    "#     plt.grid(False)\n",
    "#     plt.show()"
   ]
  },
  {
   "cell_type": "code",
   "execution_count": 63,
   "metadata": {},
   "outputs": [],
   "source": [
    "from tensorflow import keras \n",
    "from tensorflow.keras import layers\n",
    "\n",
    "inputs = keras.Input(shape=(32, 32, 3))\n",
    "x = layers.Rescaling(1./255)(inputs) \n",
    "x = layers.Conv2D(filters=16, kernel_size=3, activation=\"relu\", padding='same')(inputs)\n",
    "# x = layers.MaxPooling2D(pool_size=2)(x)\n",
    "x = layers.Conv2D(filters=32, kernel_size=3, activation=\"relu\", padding='same')(x)\n",
    "x = layers.MaxPooling2D(pool_size=2)(x)\n",
    "x = layers.Conv2D(filters=64, kernel_size=3, activation=\"relu\", padding='same')(x)\n",
    "x = layers.MaxPooling2D(pool_size=2)(x)\n",
    "x = layers.Conv2D(filters=128, kernel_size=3, activation=\"relu\", padding='same')(x)\n",
    "x = layers.MaxPooling2D(pool_size=2)(x)\n",
    "x = layers.Conv2D(filters=128, kernel_size=3, activation=\"relu\", padding='same')(x)\n",
    "x = layers.Flatten()(x)\n",
    "x = layers.Dense(128, activation = 'relu')(x)\n",
    "x = layers.BatchNormalization()(x)\n",
    "x = layers.Dense(256, activation = 'relu')(x)\n",
    "x = layers.Dropout(0.3)(x)\n",
    "outputs = layers.Dense(100, activation=\"softmax\")(x)\n",
    "model = keras.Model(inputs=inputs, outputs=outputs)"
   ]
  },
  {
   "cell_type": "code",
   "execution_count": 64,
   "metadata": {},
   "outputs": [
    {
     "name": "stdout",
     "output_type": "stream",
     "text": [
      "Model: \"model_16\"\n",
      "_________________________________________________________________\n",
      " Layer (type)                Output Shape              Param #   \n",
      "=================================================================\n",
      " input_24 (InputLayer)       [(None, 32, 32, 3)]       0         \n",
      "                                                                 \n",
      " conv2d_86 (Conv2D)          (None, 32, 32, 16)        448       \n",
      "                                                                 \n",
      " conv2d_87 (Conv2D)          (None, 32, 32, 32)        4640      \n",
      "                                                                 \n",
      " max_pooling2d_51 (MaxPoolin  (None, 16, 16, 32)       0         \n",
      " g2D)                                                            \n",
      "                                                                 \n",
      " conv2d_88 (Conv2D)          (None, 16, 16, 64)        18496     \n",
      "                                                                 \n",
      " max_pooling2d_52 (MaxPoolin  (None, 8, 8, 64)         0         \n",
      " g2D)                                                            \n",
      "                                                                 \n",
      " conv2d_89 (Conv2D)          (None, 8, 8, 128)         73856     \n",
      "                                                                 \n",
      " max_pooling2d_53 (MaxPoolin  (None, 4, 4, 128)        0         \n",
      " g2D)                                                            \n",
      "                                                                 \n",
      " conv2d_90 (Conv2D)          (None, 4, 4, 128)         147584    \n",
      "                                                                 \n",
      " flatten_18 (Flatten)        (None, 2048)              0         \n",
      "                                                                 \n",
      " dense_28 (Dense)            (None, 128)               262272    \n",
      "                                                                 \n",
      " batch_normalization_4 (Batc  (None, 128)              512       \n",
      " hNormalization)                                                 \n",
      "                                                                 \n",
      " dense_29 (Dense)            (None, 256)               33024     \n",
      "                                                                 \n",
      " dropout (Dropout)           (None, 256)               0         \n",
      "                                                                 \n",
      " dense_30 (Dense)            (None, 100)               25700     \n",
      "                                                                 \n",
      "=================================================================\n",
      "Total params: 566,532\n",
      "Trainable params: 566,276\n",
      "Non-trainable params: 256\n",
      "_________________________________________________________________\n"
     ]
    }
   ],
   "source": [
    "model.summary()"
   ]
  },
  {
   "cell_type": "code",
   "execution_count": 65,
   "metadata": {},
   "outputs": [
    {
     "name": "stdout",
     "output_type": "stream",
     "text": [
      "Epoch 1/10\n",
      "625/625 [==============================] - 104s 164ms/step - loss: 3.8550 - accuracy: 0.1022 - val_loss: 3.8433 - val_accuracy: 0.1112\n",
      "Epoch 2/10\n",
      "625/625 [==============================] - 84s 134ms/step - loss: 3.1614 - accuracy: 0.2155 - val_loss: 3.0936 - val_accuracy: 0.2272\n",
      "Epoch 3/10\n",
      "625/625 [==============================] - 78s 125ms/step - loss: 2.7876 - accuracy: 0.2862 - val_loss: 2.8479 - val_accuracy: 0.2747\n",
      "Epoch 4/10\n",
      "625/625 [==============================] - 83s 133ms/step - loss: 2.5290 - accuracy: 0.3389 - val_loss: 3.2491 - val_accuracy: 0.2267\n",
      "Epoch 5/10\n",
      "625/625 [==============================] - 68s 108ms/step - loss: 2.3535 - accuracy: 0.3771 - val_loss: 2.7275 - val_accuracy: 0.3209\n",
      "Epoch 6/10\n",
      "625/625 [==============================] - 66s 106ms/step - loss: 2.2061 - accuracy: 0.4087 - val_loss: 2.7423 - val_accuracy: 0.3252\n",
      "Epoch 7/10\n",
      "625/625 [==============================] - 66s 106ms/step - loss: 2.0717 - accuracy: 0.4384 - val_loss: 2.6550 - val_accuracy: 0.3512\n",
      "Epoch 8/10\n",
      "625/625 [==============================] - 73s 116ms/step - loss: 1.9559 - accuracy: 0.4645 - val_loss: 3.2349 - val_accuracy: 0.3020\n",
      "Epoch 9/10\n",
      "625/625 [==============================] - 74s 118ms/step - loss: 1.8532 - accuracy: 0.4877 - val_loss: 3.8025 - val_accuracy: 0.2810\n",
      "Epoch 10/10\n",
      "625/625 [==============================] - 70s 112ms/step - loss: 1.7472 - accuracy: 0.5093 - val_loss: 2.4546 - val_accuracy: 0.3802\n"
     ]
    },
    {
     "data": {
      "text/plain": [
       "<keras.callbacks.History at 0x2bc97cb6380>"
      ]
     },
     "execution_count": 65,
     "metadata": {},
     "output_type": "execute_result"
    }
   ],
   "source": [
    "model.compile(optimizer=\"rmsprop\",\n",
    "    loss=\"sparse_categorical_crossentropy\",\n",
    "    metrics=[\"accuracy\"])\n",
    "\n",
    "model.fit(\n",
    "    train_images, \n",
    "    train_labels, \n",
    "    epochs=10, \n",
    "    batch_size=64,\n",
    "    validation_split=0.2\n",
    ")"
   ]
  },
  {
   "cell_type": "code",
   "execution_count": 57,
   "metadata": {},
   "outputs": [
    {
     "name": "stdout",
     "output_type": "stream",
     "text": [
      "313/313 [==============================] - 5s 15ms/step - loss: 2.7459 - accuracy: 0.3803\n",
      "Test accuracy: 0.380\n"
     ]
    }
   ],
   "source": [
    "test_loss, test_acc = model.evaluate(test_images, test_labels)\n",
    "print(f\"Test accuracy: {test_acc:.3f}\")"
   ]
  },
  {
   "cell_type": "code",
   "execution_count": 60,
   "metadata": {},
   "outputs": [],
   "source": [
    "def plot_train_val_loss(history):\n",
    "    loss = history.history['loss']\n",
    "    val_loss = history.history['val_loss']\n",
    "\n",
    "    epochs = range(1, len(loss) + 1)\n",
    "\n",
    "    blue_dots = 'bo'\n",
    "    solid_blue_line = 'b'\n",
    "\n",
    "    plt.plot(epochs, loss, blue_dots, label = 'Training loss')\n",
    "    plt.plot(epochs, val_loss, solid_blue_line, label = 'Validation loss')\n",
    "    plt.title('Training and validation loss')\n",
    "    plt.xlabel('Epochs')\n",
    "    plt.ylabel('Loss')\n",
    "    plt.legend()\n",
    "\n",
    "    plt.show()\n",
    "    \n",
    "def plot_train_val_acc(history):\n",
    "    plt.clf()\n",
    "\n",
    "    acc = history.history['accuracy']\n",
    "    val_acc = history.history['val_accuracy']\n",
    "        \n",
    "    epochs = range(1, len(acc) + 1)\n",
    "\n",
    "    blue_dots = 'bo'\n",
    "    solid_blue_line = 'b'\n",
    "        \n",
    "    plt.plot(epochs, acc, blue_dots, label = 'Training Accuracy')\n",
    "    plt.plot(epochs, val_acc, solid_blue_line, label = 'Validation Accuracy')\n",
    "    plt.title('Training and validation acc')\n",
    "    plt.xlabel('Epochs')\n",
    "    plt.ylabel('Accuracy')\n",
    "    plt.legend()\n",
    "\n",
    "    plt.show()"
   ]
  },
  {
   "cell_type": "code",
   "execution_count": 62,
   "metadata": {},
   "outputs": [
    {
     "data": {
      "image/png": "[encoded data removed]",
      "text/plain": [
       "<Figure size 640x480 with 1 Axes>"
      ]
     },
     "metadata": {},
     "output_type": "display_data"
    }
   ],
   "source": [
    "plot_train_val_acc(model.history)\n"
   ]
  }
 ],
 "metadata": {
  "kernelspec": {
   "display_name": "Python 3",
   "language": "python",
   "name": "python3"
  },
  "language_info": {
   "codemirror_mode": {
    "name": "ipython",
    "version": 3
   },
   "file_extension": ".py",
   "mimetype": "text/x-python",
   "name": "python",
   "nbconvert_exporter": "python",
   "pygments_lexer": "ipython3",
   "version": "3.10.6 (tags/v3.10.6:9c7b4bd, Aug  1 2022, 21:53:49) [MSC v.1932 64 bit (AMD64)]"
  },
  "orig_nbformat": 4,
  "vscode": {
   "interpreter": {
    "hash": "2fc6efb3340bf4aae142c4471c3414bb5b17e6e80ba42a259676c40f0503db89"
   }
  }
 },
 "nbformat": 4,
 "nbformat_minor": 2
}
