{
 "cells": [
  {
   "cell_type": "code",
   "execution_count": 53,
   "metadata": {},
   "outputs": [
    {
     "name": "stdout",
     "output_type": "stream",
     "text": [
      "2.10.0   2.10.0\n"
     ]
    }
   ],
   "source": [
    "import tensorflow as tf\n",
    "from tensorflow import keras\n",
    "print(tf.__version__, ' ', tf.keras.__version__)"
   ]
  },
  {
   "cell_type": "code",
   "execution_count": 54,
   "metadata": {},
   "outputs": [],
   "source": [
    "from tensorflow.keras.datasets import reuters"
   ]
  },
  {
   "cell_type": "markdown",
   "metadata": {},
   "source": [
    "```num_words``` restricts data to 10,000 most frequently occuring words"
   ]
  },
  {
   "cell_type": "code",
   "execution_count": 55,
   "metadata": {},
   "outputs": [
    {
     "name": "stdout",
     "output_type": "stream",
     "text": [
      "8982 2246\n"
     ]
    }
   ],
   "source": [
    "(train_data, train_labels,), (test_data, test_labels) = reuters.load_data(num_words=10000)\n",
    "\n",
    "print(len(train_data), len(test_data))"
   ]
  },
  {
   "cell_type": "markdown",
   "metadata": {},
   "source": [
    "Each example is a list of integers (word indices):\n"
   ]
  },
  {
   "cell_type": "code",
   "execution_count": 56,
   "metadata": {},
   "outputs": [
    {
     "data": {
      "text/plain": [
       "[1,\n",
       " 245,\n",
       " 273,\n",
       " 207,\n",
       " 156,\n",
       " 53,\n",
       " 74,\n",
       " 160,\n",
       " 26,\n",
       " 14,\n",
       " 46,\n",
       " 296,\n",
       " 26,\n",
       " 39,\n",
       " 74,\n",
       " 2979,\n",
       " 3554,\n",
       " 14,\n",
       " 46,\n",
       " 4689,\n",
       " 4329,\n",
       " 86,\n",
       " 61,\n",
       " 3499,\n",
       " 4795,\n",
       " 14,\n",
       " 61,\n",
       " 451,\n",
       " 4329,\n",
       " 17,\n",
       " 12]"
      ]
     },
     "execution_count": 56,
     "metadata": {},
     "output_type": "execute_result"
    }
   ],
   "source": [
    "train_data[10]"
   ]
  },
  {
   "cell_type": "markdown",
   "metadata": {},
   "source": [
    "### Decode Examples back into words"
   ]
  },
  {
   "cell_type": "code",
   "execution_count": 57,
   "metadata": {},
   "outputs": [],
   "source": [
    "def decode_wire(data):\n",
    "    word_index = reuters.get_word_index()\n",
    "\n",
    "    reverse_word_index = dict([(value, key) for (key,value) in word_index.items()])\n",
    "\n",
    "    # indices offset by 3 bc 0,1,2 rerserved indices for \"padding\", \"start of sequence\", and \"unknown\"\n",
    "    decoded_review = ' '.join([reverse_word_index.get(i - 3, '?') for i in data])\n",
    "\n",
    "    return decoded_review"
   ]
  },
  {
   "cell_type": "markdown",
   "metadata": {},
   "source": [
    "Label associated with an example is integer [0,45] => topic index"
   ]
  },
  {
   "cell_type": "markdown",
   "metadata": {},
   "source": [
    "# 4.2.2 Preparing the Data\n",
    "Can vectorize the data - 2 options:\n",
    "1. Cast label list as integer tensor\n",
    "    - **note:** if chose to encode labels using integer tensor => would need to select ```sparse_categorical_crossentorpy```\n",
    "2. One-hot Encoding\n",
    "    - **note:** if chose to encode labels using integer tensor => would need to select ```categorical_crossentorpy```\n"
   ]
  },
  {
   "cell_type": "code",
   "execution_count": 58,
   "metadata": {},
   "outputs": [],
   "source": [
    "import numpy as np"
   ]
  },
  {
   "cell_type": "markdown",
   "metadata": {},
   "source": [
    "### Vectorize data"
   ]
  },
  {
   "cell_type": "code",
   "execution_count": 59,
   "metadata": {},
   "outputs": [],
   "source": [
    "def vectorize_sequences(sequences, dimension = 10000):\n",
    "    results = np.zeros((len(sequences), dimension))\n",
    "\n",
    "    for i, sequence in enumerate(sequences):\n",
    "        results[i, sequence] = 1.\n",
    "    return results\n",
    "\n",
    "# def vectorize_sequences(sequences, dimension = 10000):\n",
    "#     results = np.zeros((len(sequences), dimension))\n",
    "#     for i, sequence in enumerate(sequences):\n",
    "#         results[i, sequence] = 1.\n",
    "#     return results"
   ]
  },
  {
   "cell_type": "code",
   "execution_count": 60,
   "metadata": {},
   "outputs": [],
   "source": [
    "x_train = vectorize_sequences(train_data)\n",
    "x_test = vectorize_sequences(test_data)\n",
    "\n"
   ]
  },
  {
   "cell_type": "markdown",
   "metadata": {},
   "source": [
    "### One-Hot Encode Labels"
   ]
  },
  {
   "cell_type": "code",
   "execution_count": 61,
   "metadata": {},
   "outputs": [],
   "source": [
    "def to_one_hot(labels, dimension=46):\n",
    "    results = np.zeros((len(labels), dimension))\n",
    "    for i, label in enumerate(labels):\n",
    "        results[i, label] = 1\n",
    "    return results"
   ]
  },
  {
   "cell_type": "markdown",
   "metadata": {},
   "source": [
    "#### Bulit in one-hot encoding from keras"
   ]
  },
  {
   "cell_type": "code",
   "execution_count": 62,
   "metadata": {},
   "outputs": [],
   "source": [
    "#one hot encoder for lists\n",
    "from tensorflow.keras.utils import to_categorical \n",
    "\n",
    "y_train = to_categorical(train_labels)\n",
    "y_test = to_categorical(test_labels)"
   ]
  },
  {
   "cell_type": "markdown",
   "metadata": {},
   "source": [
    "# 4.2.3 Build Model Network\n",
    "Similar to IMDB but now output classes has increased from 2 to 46  \n",
    "Dimensionality of output much larger  \n",
    "Used a 16 dim rep space for intermediate imdb layer but might be too small to seperate 46 different classes\n",
    "=> **Infomation Bottleneck** \n",
    "\n",
    "With stack of dense layers, each layer only has access to information presented from previous layer  \n",
    "If layer drops some relevant information, info not recoverd by later layers   \n",
    "\n",
    "Use larger layers in this case = 64 units\n",
    "\n",
    "**Last layer**\n",
    "- 46 units output\n",
    "- ```softmax``` activation\n",
    "    - probability distribution over the 46 different output classes\n",
    "    - ```output[i]``` = prob that sample blongs to class ```i```\n",
    "\n",
    "\n"
   ]
  },
  {
   "cell_type": "code",
   "execution_count": 63,
   "metadata": {},
   "outputs": [
    {
     "name": "stdout",
     "output_type": "stream",
     "text": [
      "Model: \"sequential_3\"\n",
      "_________________________________________________________________\n",
      " Layer (type)                Output Shape              Param #   \n",
      "=================================================================\n",
      " dense_9 (Dense)             (None, 64)                640064    \n",
      "                                                                 \n",
      " dense_10 (Dense)            (None, 64)                4160      \n",
      "                                                                 \n",
      " dense_11 (Dense)            (None, 46)                2990      \n",
      "                                                                 \n",
      "=================================================================\n",
      "Total params: 647,214\n",
      "Trainable params: 647,214\n",
      "Non-trainable params: 0\n",
      "_________________________________________________________________\n"
     ]
    }
   ],
   "source": [
    "from tensorflow.keras import models\n",
    "from tensorflow.keras import layers\n",
    "\n",
    "model = models.Sequential([\n",
    "    layers.Dense(64, activation = 'relu', input_shape = (10000,)),\n",
    "    layers.Dense(64, activation = 'relu'),\n",
    "    layers.Dense(46, activation = 'softmax')\n",
    "])\n",
    "\n",
    "model.summary()"
   ]
  },
  {
   "cell_type": "markdown",
   "metadata": {},
   "source": [
    "Model Summary shows output shape of each layer and number of trainable params\n",
    "- Number of params in the w and b layer tensors\n",
    "Length of zero'th axis (sample axis) is zero as usual\n",
    "\n",
    "**Shape of Weight and bias Tensors by layer**\n"
   ]
  },
  {
   "cell_type": "code",
   "execution_count": 64,
   "metadata": {},
   "outputs": [
    {
     "name": "stdout",
     "output_type": "stream",
     "text": [
      "0 \t Weight Params:  (10000, 64) \t Bias Param:  (64,)\n",
      "1 \t Weight Params:  (64, 64) \t Bias Param:  (64,)\n",
      "2 \t Weight Params:  (64, 46) \t Bias Param:  (46,)\n"
     ]
    }
   ],
   "source": [
    "# The weight and bias tensors\n",
    "def print_layer_tensor_shape(layer):\n",
    "    weight_params = model.layers[layer].get_weights()[0]\n",
    "    bias_params = model.layers[layer].get_weights()[1]\n",
    "    print(layer, '\\t', 'Weight Params: ', weight_params.shape, '\\t', 'Bias Param: ', bias_params.shape)\n",
    "\n",
    "print_layer_tensor_shape(layer=0)\n",
    "print_layer_tensor_shape(layer=1)\n",
    "print_layer_tensor_shape(layer=2)"
   ]
  },
  {
   "cell_type": "markdown",
   "metadata": {},
   "source": [
    "Weight tensor has shape (n,m) (n rows, m cols).  \n",
    "n*m elements  \n",
    "bias tensor just a vector: number of elements = length  \n",
    "Total trainable parameters = total number of elements in all w and b tensors"
   ]
  },
  {
   "cell_type": "code",
   "execution_count": 65,
   "metadata": {},
   "outputs": [
    {
     "data": {
      "text/plain": [
       "647214"
      ]
     },
     "execution_count": 65,
     "metadata": {},
     "output_type": "execute_result"
    }
   ],
   "source": [
    "(10000 * 64 + 64) + (64 * 64 + 64) + (64 * 46 + 46)"
   ]
  },
  {
   "cell_type": "markdown",
   "metadata": {},
   "source": [
    "\n",
    "\n",
    "**Loss Function**  \n",
    "```categorical_crossentropy```: measures the distance between 2 probability distributions\n",
    "- probability distribution output by the model\n",
    "- true distribution of the labels\n",
    "\n",
    "**note:** if chose to encode labels using integer tensor => would need to select ```sparse_categorical_crossentorpy```\n",
    "\n",
    "```rmsprop``` optimizer selected again"
   ]
  },
  {
   "cell_type": "code",
   "execution_count": 66,
   "metadata": {},
   "outputs": [],
   "source": [
    "model.compile(optimizer = 'rmsprop',\n",
    "            loss = 'categorical_crossentropy', \n",
    "            metrics = ['accuracy'])"
   ]
  },
  {
   "cell_type": "markdown",
   "metadata": {},
   "source": [
    "# 4.2.4 Validating Approach\n",
    "\n",
    "Set apart 1000 samples in training data for validation"
   ]
  },
  {
   "cell_type": "code",
   "execution_count": 67,
   "metadata": {},
   "outputs": [],
   "source": [
    "x_val = x_train[:1000]\n",
    "partial_x_train = x_train[1000:]\n",
    "y_val = y_train[:1000]\n",
    "partial_y_train = y_train[1000:]\n"
   ]
  },
  {
   "cell_type": "markdown",
   "metadata": {},
   "source": [
    "Train models for 20 epochs  \n",
    "Mini-batch 512  "
   ]
  },
  {
   "cell_type": "code",
   "execution_count": 68,
   "metadata": {},
   "outputs": [
    {
     "name": "stdout",
     "output_type": "stream",
     "text": [
      "Epoch 1/20\n",
      "16/16 [==============================] - 1s 40ms/step - loss: 2.6172 - accuracy: 0.5331 - val_loss: 1.7502 - val_accuracy: 0.6460\n",
      "Epoch 2/20\n",
      "16/16 [==============================] - 0s 25ms/step - loss: 1.4269 - accuracy: 0.7015 - val_loss: 1.3120 - val_accuracy: 0.7170\n",
      "Epoch 3/20\n",
      "16/16 [==============================] - 0s 30ms/step - loss: 1.0621 - accuracy: 0.7732 - val_loss: 1.1357 - val_accuracy: 0.7510\n",
      "Epoch 4/20\n",
      "16/16 [==============================] - 0s 29ms/step - loss: 0.8407 - accuracy: 0.8216 - val_loss: 1.0321 - val_accuracy: 0.7890\n",
      "Epoch 5/20\n",
      "16/16 [==============================] - 0s 28ms/step - loss: 0.6743 - accuracy: 0.8588 - val_loss: 0.9933 - val_accuracy: 0.7900\n",
      "Epoch 6/20\n",
      "16/16 [==============================] - 0s 28ms/step - loss: 0.5458 - accuracy: 0.8877 - val_loss: 0.9298 - val_accuracy: 0.8130\n",
      "Epoch 7/20\n",
      "16/16 [==============================] - 0s 25ms/step - loss: 0.4368 - accuracy: 0.9119 - val_loss: 0.9020 - val_accuracy: 0.8210\n",
      "Epoch 8/20\n",
      "16/16 [==============================] - 0s 29ms/step - loss: 0.3570 - accuracy: 0.9253 - val_loss: 0.8884 - val_accuracy: 0.8190\n",
      "Epoch 9/20\n",
      "16/16 [==============================] - 0s 29ms/step - loss: 0.2926 - accuracy: 0.9394 - val_loss: 0.9091 - val_accuracy: 0.8160\n",
      "Epoch 10/20\n",
      "16/16 [==============================] - 0s 30ms/step - loss: 0.2475 - accuracy: 0.9444 - val_loss: 0.9158 - val_accuracy: 0.8130\n",
      "Epoch 11/20\n",
      "16/16 [==============================] - 0s 30ms/step - loss: 0.2151 - accuracy: 0.9488 - val_loss: 0.9785 - val_accuracy: 0.8050\n",
      "Epoch 12/20\n",
      "16/16 [==============================] - 0s 30ms/step - loss: 0.1879 - accuracy: 0.9513 - val_loss: 0.9574 - val_accuracy: 0.8150\n",
      "Epoch 13/20\n",
      "16/16 [==============================] - 0s 30ms/step - loss: 0.1709 - accuracy: 0.9536 - val_loss: 0.9613 - val_accuracy: 0.8080\n",
      "Epoch 14/20\n",
      "16/16 [==============================] - 0s 29ms/step - loss: 0.1574 - accuracy: 0.9524 - val_loss: 1.0050 - val_accuracy: 0.8110\n",
      "Epoch 15/20\n",
      "16/16 [==============================] - 0s 31ms/step - loss: 0.1443 - accuracy: 0.9557 - val_loss: 0.9875 - val_accuracy: 0.8110\n",
      "Epoch 16/20\n",
      "16/16 [==============================] - 1s 33ms/step - loss: 0.1330 - accuracy: 0.9562 - val_loss: 0.9931 - val_accuracy: 0.8090\n",
      "Epoch 17/20\n",
      "16/16 [==============================] - 0s 29ms/step - loss: 0.1288 - accuracy: 0.9582 - val_loss: 1.0432 - val_accuracy: 0.8110\n",
      "Epoch 18/20\n",
      "16/16 [==============================] - 0s 30ms/step - loss: 0.1203 - accuracy: 0.9562 - val_loss: 1.0273 - val_accuracy: 0.8110\n",
      "Epoch 19/20\n",
      "16/16 [==============================] - 0s 28ms/step - loss: 0.1176 - accuracy: 0.9577 - val_loss: 1.1153 - val_accuracy: 0.8040\n",
      "Epoch 20/20\n",
      "16/16 [==============================] - 0s 28ms/step - loss: 0.1126 - accuracy: 0.9582 - val_loss: 1.1677 - val_accuracy: 0.7920\n"
     ]
    }
   ],
   "source": [
    "history = model.fit(partial_x_train,\n",
    "                    partial_y_train,\n",
    "                    epochs=20,\n",
    "                    batch_size=512,\n",
    "                    validation_data=(x_val, y_val))"
   ]
  },
  {
   "cell_type": "markdown",
   "metadata": {},
   "source": [
    "Show loss and accuracy curves"
   ]
  },
  {
   "cell_type": "code",
   "execution_count": 70,
   "metadata": {
    "slideshow": {
     "slide_type": "slide"
    }
   },
   "outputs": [],
   "source": [
    "def plot_epochs(x, \n",
    "                    y_A, style_A, label_A, \n",
    "                    y_B, style_B, label_B, \n",
    "                    title, x_label, y_label):\n",
    "    \n",
    "    import matplotlib.pyplot as plt\n",
    "    plt.clf()\n",
    "    plt.plot(x, y_A, style_A, label = label_A)\n",
    "    plt.plot(x, y_B, style_B, label = label_B)\n",
    "    plt.title(title)\n",
    "    plt.xlabel(x_label)\n",
    "    plt.ylabel(y_label)\n",
    "    plt.legend()\n",
    "    plt.show()\n",
    "    \n",
    "loss = history.history['loss']\n",
    "val_loss = history.history['val_loss']\n",
    "acc = history.history['accuracy']\n",
    "val_acc = history.history['val_accuracy']  "
   ]
  },
  {
   "cell_type": "markdown",
   "metadata": {},
   "source": [
    "Drawing code packed inside ```plot-epochs```"
   ]
  },
  {
   "cell_type": "code",
   "execution_count": 71,
   "metadata": {},
   "outputs": [
    {
     "data": {
      "image/png": "[encoded data removed]",
      "text/plain": [
       "<Figure size 432x288 with 1 Axes>"
      ]
     },
     "metadata": {
      "needs_background": "light"
     },
     "output_type": "display_data"
    }
   ],
   "source": [
    "plot_epochs(range(1, len(loss) + 1), \n",
    "            loss, 'bo', 'Training',\n",
    "            val_loss, 'b', 'Validation',\n",
    "            'Training and validation loss',\n",
    "            'Epochs',\n",
    "            'Loss')"
   ]
  },
  {
   "cell_type": "markdown",
   "metadata": {},
   "source": [
    "### Training and Validation Loss"
   ]
  },
  {
   "cell_type": "code",
   "execution_count": 72,
   "metadata": {},
   "outputs": [
    {
     "data": {
      "image/png": "[encoded data removed]",
      "text/plain": [
       "<Figure size 432x288 with 1 Axes>"
      ]
     },
     "metadata": {
      "needs_background": "light"
     },
     "output_type": "display_data"
    }
   ],
   "source": [
    "plot_epochs(range(1, len(loss) + 1), \n",
    "            acc, 'bo', 'Training',\n",
    "            val_acc, 'b', 'Validation',\n",
    "            'Training and validation accuracy',\n",
    "            'Epochs',\n",
    "            'Accuracy')"
   ]
  },
  {
   "cell_type": "markdown",
   "metadata": {},
   "source": [
    "Model begins to overfit after 6 epochs\n",
    "\n",
    "## Retrain model from scratch using 6 epochs"
   ]
  },
  {
   "cell_type": "code",
   "execution_count": 73,
   "metadata": {},
   "outputs": [
    {
     "name": "stdout",
     "output_type": "stream",
     "text": [
      "Epoch 1/9\n",
      "18/18 [==============================] - 1s 27ms/step - loss: 2.5116 - accuracy: 0.5390\n",
      "Epoch 2/9\n",
      "18/18 [==============================] - 1s 31ms/step - loss: 1.3360 - accuracy: 0.7164\n",
      "Epoch 3/9\n",
      "18/18 [==============================] - 1s 28ms/step - loss: 0.9892 - accuracy: 0.7861\n",
      "Epoch 4/9\n",
      "18/18 [==============================] - 1s 34ms/step - loss: 0.7764 - accuracy: 0.8324\n",
      "Epoch 5/9\n",
      "18/18 [==============================] - 0s 27ms/step - loss: 0.6201 - accuracy: 0.8683\n",
      "Epoch 6/9\n",
      "18/18 [==============================] - 1s 31ms/step - loss: 0.4938 - accuracy: 0.8962\n",
      "Epoch 7/9\n",
      "18/18 [==============================] - 0s 25ms/step - loss: 0.4010 - accuracy: 0.9138\n",
      "Epoch 8/9\n",
      "18/18 [==============================] - 0s 26ms/step - loss: 0.3268 - accuracy: 0.9310\n",
      "Epoch 9/9\n",
      "18/18 [==============================] - 0s 24ms/step - loss: 0.2700 - accuracy: 0.9388\n",
      "71/71 [==============================] - 0s 2ms/step - loss: 0.9767 - accuracy: 0.7867\n"
     ]
    }
   ],
   "source": [
    "model = keras.Sequential([\n",
    "    layers.Dense(64, activation=\"relu\"),\n",
    "    layers.Dense(64, activation=\"relu\"),\n",
    "    layers.Dense(46, activation=\"softmax\")\n",
    "])\n",
    "\n",
    "model.compile(optimizer=\"rmsprop\",\n",
    "            loss=\"categorical_crossentropy\",\n",
    "            metrics=[\"accuracy\"])\n",
    "\n",
    "model.fit(\n",
    "    x_train, y_train,\n",
    "    epochs=9,\n",
    "    batch_size=512)\n",
    "\n",
    "results = model.evaluate(x_test, y_test)"
   ]
  },
  {
   "cell_type": "code",
   "execution_count": 74,
   "metadata": {},
   "outputs": [
    {
     "data": {
      "text/plain": [
       "[0.9766589999198914, 0.7867319583892822]"
      ]
     },
     "execution_count": 74,
     "metadata": {},
     "output_type": "execute_result"
    }
   ],
   "source": [
    "results"
   ]
  },
  {
   "cell_type": "markdown",
   "metadata": {},
   "source": [
    "Reaches accuracy of close to 80%.  In a balanced binary classifier random guessing would achieve 50%.  \n",
    "In multi-class have 46 classes here so default accuracy much lower.  Random baseline model would achieve around 19% from textbook."
   ]
  },
  {
   "cell_type": "markdown",
   "metadata": {},
   "source": [
    "# 4.2.5 Predictions \n",
    "calling models ```predict``` method on new samples returns a class probability distribution over all 46 topics  \n",
    "\n",
    "Generate predictions for all test data:"
   ]
  },
  {
   "cell_type": "code",
   "execution_count": 76,
   "metadata": {},
   "outputs": [
    {
     "name": "stdout",
     "output_type": "stream",
     "text": [
      "71/71 [==============================] - 0s 2ms/step\n",
      "(46,)\n",
      "1.0000001\n",
      "3\n"
     ]
    }
   ],
   "source": [
    "predictions = model.predict(x_test)\n",
    "\n",
    "# each entry is vector of length 46\n",
    "print(predictions[0].shape)\n",
    "\n",
    "#coefficients in vector sum to 1 (prob dist\n",
    "print(np.sum(predictions[0]))\n",
    "\n",
    "# largest entry = predicted class (highest prob)\n",
    "print(np.argmax(predictions[0]))"
   ]
  },
  {
   "cell_type": "code",
   "execution_count": 77,
   "metadata": {},
   "outputs": [
    {
     "name": "stdout",
     "output_type": "stream",
     "text": [
      "wire \t pred \t label\n",
      "0 \t 3 \t 3\n",
      "1 \t 10 \t 10\n",
      "2 \t 1 \t 1\n",
      "3 \t 16 \t 4\n",
      "4 \t 13 \t 4\n",
      "5 \t 3 \t 3\n",
      "6 \t 3 \t 3\n",
      "7 \t 3 \t 3\n",
      "8 \t 3 \t 3\n",
      "9 \t 3 \t 3\n"
     ]
    }
   ],
   "source": [
    "print('wire', '\\t', 'pred', '\\t', 'label')\n",
    "for i in range(10):\n",
    "    print(i, '\\t', np.argmax(predictions[i]), '\\t', test_labels[i]) "
   ]
  },
  {
   "cell_type": "markdown",
   "metadata": {},
   "source": [
    "### Importance of sufficiently large intermediate layers\n",
    "Experiment with what happens choosing layers with fewer than 46 units  \n",
    "Get Information Bottleneck\n"
   ]
  },
  {
   "cell_type": "code",
   "execution_count": 79,
   "metadata": {},
   "outputs": [
    {
     "name": "stdout",
     "output_type": "stream",
     "text": [
      "Epoch 1/20\n",
      "63/63 [==============================] - 4s 48ms/step - loss: 3.0853 - accuracy: 0.2316 - val_loss: 2.4068 - val_accuracy: 0.3770\n",
      "Epoch 2/20\n",
      "63/63 [==============================] - 1s 14ms/step - loss: 1.9449 - accuracy: 0.5472 - val_loss: 1.7235 - val_accuracy: 0.5960\n",
      "Epoch 3/20\n",
      "63/63 [==============================] - 1s 15ms/step - loss: 1.5262 - accuracy: 0.6180 - val_loss: 1.5600 - val_accuracy: 0.6120\n",
      "Epoch 4/20\n",
      "63/63 [==============================] - 1s 16ms/step - loss: 1.3469 - accuracy: 0.6358 - val_loss: 1.5016 - val_accuracy: 0.6230\n",
      "Epoch 5/20\n",
      "63/63 [==============================] - 1s 13ms/step - loss: 1.2334 - accuracy: 0.6644 - val_loss: 1.4817 - val_accuracy: 0.6500\n",
      "Epoch 6/20\n",
      "63/63 [==============================] - 1s 13ms/step - loss: 1.1495 - accuracy: 0.6908 - val_loss: 1.4511 - val_accuracy: 0.6540\n",
      "Epoch 7/20\n",
      "63/63 [==============================] - 1s 12ms/step - loss: 1.0643 - accuracy: 0.7045 - val_loss: 1.4366 - val_accuracy: 0.6670\n",
      "Epoch 8/20\n",
      "63/63 [==============================] - 1s 14ms/step - loss: 0.9630 - accuracy: 0.7244 - val_loss: 1.4087 - val_accuracy: 0.6750\n",
      "Epoch 9/20\n",
      "63/63 [==============================] - 1s 15ms/step - loss: 0.8746 - accuracy: 0.7471 - val_loss: 1.3713 - val_accuracy: 0.6970\n",
      "Epoch 10/20\n",
      "63/63 [==============================] - 1s 17ms/step - loss: 0.7941 - accuracy: 0.7885 - val_loss: 1.4002 - val_accuracy: 0.7030\n",
      "Epoch 11/20\n",
      "63/63 [==============================] - 1s 15ms/step - loss: 0.7253 - accuracy: 0.8093 - val_loss: 1.4025 - val_accuracy: 0.7080\n",
      "Epoch 12/20\n",
      "63/63 [==============================] - 1s 15ms/step - loss: 0.6683 - accuracy: 0.8195 - val_loss: 1.4215 - val_accuracy: 0.7120\n",
      "Epoch 13/20\n",
      "63/63 [==============================] - 1s 15ms/step - loss: 0.6210 - accuracy: 0.8326 - val_loss: 1.4969 - val_accuracy: 0.7120\n",
      "Epoch 14/20\n",
      "63/63 [==============================] - 1s 17ms/step - loss: 0.5816 - accuracy: 0.8441 - val_loss: 1.4726 - val_accuracy: 0.7200\n",
      "Epoch 15/20\n",
      "63/63 [==============================] - 1s 14ms/step - loss: 0.5476 - accuracy: 0.8504 - val_loss: 1.5698 - val_accuracy: 0.7080\n",
      "Epoch 16/20\n",
      "63/63 [==============================] - 1s 14ms/step - loss: 0.5198 - accuracy: 0.8569 - val_loss: 1.5538 - val_accuracy: 0.7100\n",
      "Epoch 17/20\n",
      "63/63 [==============================] - 1s 15ms/step - loss: 0.4935 - accuracy: 0.8649 - val_loss: 1.6131 - val_accuracy: 0.7080\n",
      "Epoch 18/20\n",
      "63/63 [==============================] - 1s 14ms/step - loss: 0.4726 - accuracy: 0.8703 - val_loss: 1.6790 - val_accuracy: 0.7090\n",
      "Epoch 19/20\n",
      "63/63 [==============================] - 1s 14ms/step - loss: 0.4490 - accuracy: 0.8775 - val_loss: 1.7474 - val_accuracy: 0.7070\n",
      "Epoch 20/20\n",
      "63/63 [==============================] - 1s 14ms/step - loss: 0.4315 - accuracy: 0.8829 - val_loss: 1.8389 - val_accuracy: 0.6990\n"
     ]
    }
   ],
   "source": [
    "model = keras.Sequential([\n",
    "    layers.Dense(64, activation=\"relu\"),\n",
    "    layers.Dense(4, activation=\"relu\"),\n",
    "    layers.Dense(46, activation=\"softmax\")\n",
    "])\n",
    "\n",
    "model.compile(optimizer=\"rmsprop\",\n",
    "    loss=\"categorical_crossentropy\",\n",
    "    metrics=[\"accuracy\"])\n",
    "\n",
    "history_compressed = model.fit(partial_x_train,\n",
    "    partial_y_train,\n",
    "    epochs=20,\n",
    "    batch_size=128,\n",
    "    validation_data=(x_val, y_val))"
   ]
  },
  {
   "cell_type": "code",
   "execution_count": 80,
   "metadata": {},
   "outputs": [],
   "source": [
    "loss_compressed = history_compressed.history['loss']\n",
    "val_loss_compressed = history_compressed.history['val_loss']\n",
    "acc_compressed = history_compressed.history['accuracy']\n",
    "val_acc_compressed = history_compressed.history['val_accuracy']  "
   ]
  },
  {
   "cell_type": "code",
   "execution_count": 81,
   "metadata": {},
   "outputs": [
    {
     "data": {
      "image/png": "[encoded data removed]",
      "text/plain": [
       "<Figure size 432x288 with 1 Axes>"
      ]
     },
     "metadata": {
      "needs_background": "light"
     },
     "output_type": "display_data"
    }
   ],
   "source": [
    "plot_epochs(range(1, len(loss) + 1), \n",
    "            acc, 'bo', 'Training',\n",
    "            val_acc, 'b', 'Validation',\n",
    "            'Training and validation accuracy',\n",
    "            'Epochs',\n",
    "            'Accuracy')"
   ]
  }
 ],
 "metadata": {
  "kernelspec": {
   "display_name": "Python 3.10.2 64-bit",
   "language": "python",
   "name": "python3"
  },
  "language_info": {
   "codemirror_mode": {
    "name": "ipython",
    "version": 3
   },
   "file_extension": ".py",
   "mimetype": "text/x-python",
   "name": "python",
   "nbconvert_exporter": "python",
   "pygments_lexer": "ipython3",
   "version": "3.10.2"
  },
  "orig_nbformat": 4,
  "vscode": {
   "interpreter": {
    "hash": "2fc6efb3340bf4aae142c4471c3414bb5b17e6e80ba42a259676c40f0503db89"
   }
  }
 },
 "nbformat": 4,
 "nbformat_minor": 2
}
